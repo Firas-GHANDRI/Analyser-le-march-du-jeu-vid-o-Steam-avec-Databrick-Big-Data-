{
 "cells": [
  {
   "cell_type": "code",
   "execution_count": 0,
   "metadata": {
    "application/vnd.databricks.v1+cell": {
     "cellMetadata": {
      "byteLimit": 2048000,
      "rowLimit": 10000
     },
     "inputWidgets": {},
     "nuid": "a6941b99-f065-46d0-b3e2-810748835a12",
     "showTitle": false,
     "title": ""
    }
   },
   "outputs": [],
   "source": [
    "\n",
    "from pyspark.sql import SparkSession\n",
    "from pyspark import SparkConf\n",
    "import pandas as pd\n",
    "import numpy as np\n",
    "from pyspark.sql import functions as F\n",
    "from datetime import datetime"
   ]
  },
  {
   "cell_type": "code",
   "execution_count": 0,
   "metadata": {
    "application/vnd.databricks.v1+cell": {
     "cellMetadata": {
      "byteLimit": 2048000,
      "rowLimit": 10000
     },
     "inputWidgets": {},
     "nuid": "6aad65b3-deee-49d5-a759-eef36b10c574",
     "showTitle": false,
     "title": ""
    }
   },
   "outputs": [],
   "source": [
    "import databricks.koalas as ks\n"
   ]
  },
  {
   "cell_type": "code",
   "execution_count": 0,
   "metadata": {
    "application/vnd.databricks.v1+cell": {
     "cellMetadata": {
      "byteLimit": 2048000,
      "rowLimit": 10000
     },
     "inputWidgets": {},
     "nuid": "452aed2b-f8c6-4a6d-9ca6-5a0de6726c3d",
     "showTitle": false,
     "title": ""
    }
   },
   "outputs": [],
   "source": [
    "filepath = \"s3://full-stack-bigdata-datasets/Big_Data/Project_Steam/steam_game_output.json\""
   ]
  },
  {
   "cell_type": "code",
   "execution_count": 0,
   "metadata": {
    "application/vnd.databricks.v1+cell": {
     "cellMetadata": {
      "byteLimit": 2048000,
      "rowLimit": 10000
     },
     "inputWidgets": {},
     "nuid": "47974a4a-0934-4ab6-abfc-e413331eb9c4",
     "showTitle": false,
     "title": ""
    }
   },
   "outputs": [],
   "source": [
    "df = spark.read.format('json').option('header', 'true').option('inferSchema', 'true').load(filepath)"
   ]
  },
  {
   "cell_type": "code",
   "execution_count": 0,
   "metadata": {
    "application/vnd.databricks.v1+cell": {
     "cellMetadata": {
      "byteLimit": 2048000,
      "rowLimit": 10000
     },
     "inputWidgets": {},
     "nuid": "9ffe6454-25f2-4a79-8ab0-7a9f091c22fc",
     "showTitle": false,
     "title": ""
    }
   },
   "outputs": [
    {
     "output_type": "stream",
     "name": "stdout",
     "output_type": "stream",
     "text": [
      "+--------------------+-------+\n|                data|     id|\n+--------------------+-------+\n|{10, [Multi-playe...|     10|\n|{1000000, [Single...|1000000|\n|{1000010, [Single...|1000010|\n|{1000030, [Multi-...|1000030|\n|{1000040, [Single...|1000040|\n|{1000080, [Multi-...|1000080|\n|{1000100, [Single...|1000100|\n|{1000110, [Multi-...|1000110|\n|{1000130, [Single...|1000130|\n|{1000280, [Single...|1000280|\n|{1000310, [Multi-...|1000310|\n|{1000360, [Multi-...|1000360|\n|{1000370, [Single...|1000370|\n|{1000380, [Single...|1000380|\n|{1000410, [Single...|1000410|\n|{1000470, [Single...|1000470|\n|{1000480, [Single...|1000480|\n|{1000500, [Multi-...|1000500|\n|{1000510, [], 0, ...|1000510|\n|{1000540, [Multi-...|1000540|\n+--------------------+-------+\nonly showing top 20 rows\n\n"
     ]
    }
   ],
   "source": [
    "df.show()"
   ]
  },
  {
   "cell_type": "code",
   "execution_count": 0,
   "metadata": {
    "application/vnd.databricks.v1+cell": {
     "cellMetadata": {
      "byteLimit": 2048000,
      "rowLimit": 10000
     },
     "inputWidgets": {},
     "nuid": "1d6c541f-e6d7-47cc-b618-4d28a3a14595",
     "showTitle": false,
     "title": ""
    }
   },
   "outputs": [
    {
     "output_type": "stream",
     "name": "stdout",
     "output_type": "stream",
     "text": [
      "root\n |-- data: struct (nullable = true)\n |    |-- appid: long (nullable = true)\n |    |-- categories: array (nullable = true)\n |    |    |-- element: string (containsNull = true)\n |    |-- ccu: long (nullable = true)\n |    |-- developer: string (nullable = true)\n |    |-- discount: string (nullable = true)\n |    |-- genre: string (nullable = true)\n |    |-- header_image: string (nullable = true)\n |    |-- initialprice: string (nullable = true)\n |    |-- languages: string (nullable = true)\n |    |-- name: string (nullable = true)\n |    |-- negative: long (nullable = true)\n |    |-- owners: string (nullable = true)\n |    |-- platforms: struct (nullable = true)\n |    |    |-- linux: boolean (nullable = true)\n |    |    |-- mac: boolean (nullable = true)\n |    |    |-- windows: boolean (nullable = true)\n |    |-- positive: long (nullable = true)\n |    |-- price: string (nullable = true)\n |    |-- publisher: string (nullable = true)\n |    |-- release_date: string (nullable = true)\n |    |-- required_age: string (nullable = true)\n |    |-- short_description: string (nullable = true)\n |    |-- tags: struct (nullable = true)\n |    |    |-- 1980s: long (nullable = true)\n |    |    |-- 1990's: long (nullable = true)\n |    |    |-- 2.5D: long (nullable = true)\n |    |    |-- 2D: long (nullable = true)\n |    |    |-- 2D Fighter: long (nullable = true)\n |    |    |-- 2D Platformer: long (nullable = true)\n |    |    |-- 360 Video: long (nullable = true)\n |    |    |-- 3D: long (nullable = true)\n |    |    |-- 3D Fighter: long (nullable = true)\n |    |    |-- 3D Platformer: long (nullable = true)\n |    |    |-- 3D Vision: long (nullable = true)\n |    |    |-- 4 Player Local: long (nullable = true)\n |    |    |-- 4X: long (nullable = true)\n |    |    |-- 6DOF: long (nullable = true)\n |    |    |-- 8-bit Music: long (nullable = true)\n |    |    |-- ATV: long (nullable = true)\n |    |    |-- Abstract: long (nullable = true)\n |    |    |-- Action: long (nullable = true)\n |    |    |-- Action RPG: long (nullable = true)\n |    |    |-- Action RTS: long (nullable = true)\n |    |    |-- Action Roguelike: long (nullable = true)\n |    |    |-- Action-Adventure: long (nullable = true)\n |    |    |-- Addictive: long (nullable = true)\n |    |    |-- Adventure: long (nullable = true)\n |    |    |-- Agriculture: long (nullable = true)\n |    |    |-- Aliens: long (nullable = true)\n |    |    |-- Alternate History: long (nullable = true)\n |    |    |-- Ambient: long (nullable = true)\n |    |    |-- America: long (nullable = true)\n |    |    |-- Animation & Modeling: long (nullable = true)\n |    |    |-- Anime: long (nullable = true)\n |    |    |-- Arcade: long (nullable = true)\n |    |    |-- Archery: long (nullable = true)\n |    |    |-- Arena Shooter: long (nullable = true)\n |    |    |-- Artificial Intelligence: long (nullable = true)\n |    |    |-- Assassin: long (nullable = true)\n |    |    |-- Asymmetric VR: long (nullable = true)\n |    |    |-- Asynchronous Multiplayer: long (nullable = true)\n |    |    |-- Atmospheric: long (nullable = true)\n |    |    |-- Audio Production: long (nullable = true)\n |    |    |-- Auto Battler: long (nullable = true)\n |    |    |-- Automation: long (nullable = true)\n |    |    |-- Automobile Sim: long (nullable = true)\n |    |    |-- BMX: long (nullable = true)\n |    |    |-- Base-Building: long (nullable = true)\n |    |    |-- Baseball: long (nullable = true)\n |    |    |-- Based On A Novel: long (nullable = true)\n |    |    |-- Basketball: long (nullable = true)\n |    |    |-- Battle Royale: long (nullable = true)\n |    |    |-- Beat 'em up: long (nullable = true)\n |    |    |-- Beautiful: long (nullable = true)\n |    |    |-- Benchmark: long (nullable = true)\n |    |    |-- Bikes: long (nullable = true)\n |    |    |-- Blood: long (nullable = true)\n |    |    |-- Board Game: long (nullable = true)\n |    |    |-- Boss Rush: long (nullable = true)\n |    |    |-- Bowling: long (nullable = true)\n |    |    |-- Boxing: long (nullable = true)\n |    |    |-- Building: long (nullable = true)\n |    |    |-- Bullet Hell: long (nullable = true)\n |    |    |-- Bullet Time: long (nullable = true)\n |    |    |-- CRPG: long (nullable = true)\n |    |    |-- Capitalism: long (nullable = true)\n |    |    |-- Card Battler: long (nullable = true)\n |    |    |-- Card Game: long (nullable = true)\n |    |    |-- Cartoon: long (nullable = true)\n |    |    |-- Cartoony: long (nullable = true)\n |    |    |-- Casual: long (nullable = true)\n |    |    |-- Cats: long (nullable = true)\n |    |    |-- Character Action Game: long (nullable = true)\n |    |    |-- Character Customization: long (nullable = true)\n |    |    |-- Chess: long (nullable = true)\n |    |    |-- Choices Matter: long (nullable = true)\n |    |    |-- Choose Your Own Adventure: long (nullable = true)\n |    |    |-- Cinematic: long (nullable = true)\n |    |    |-- City Builder: long (nullable = true)\n |    |    |-- Class-Based: long (nullable = true)\n |    |    |-- Classic: long (nullable = true)\n |    |    |-- Clicker: long (nullable = true)\n |    |    |-- Co-op: long (nullable = true)\n |    |    |-- Co-op Campaign: long (nullable = true)\n |    |    |-- Coding: long (nullable = true)\n |    |    |-- Cold War: long (nullable = true)\n |    |    |-- Collectathon: long (nullable = true)\n |    |    |-- Colony Sim: long (nullable = true)\n |    |    |-- Colorful: long (nullable = true)\n |    |    |-- Combat: long (nullable = true)\n |    |    |-- Combat Racing: long (nullable = true)\n |    |    |-- Comedy: long (nullable = true)\n |    |    |-- Comic Book: long (nullable = true)\n |    |    |-- Competitive: long (nullable = true)\n |    |    |-- Conspiracy: long (nullable = true)\n |    |    |-- Controller: long (nullable = true)\n |    |    |-- Conversation: long (nullable = true)\n |    |    |-- Cooking: long (nullable = true)\n |    |    |-- Cozy: long (nullable = true)\n |    |    |-- Crafting: long (nullable = true)\n |    |    |-- Creature Collector: long (nullable = true)\n |    |    |-- Cricket: long (nullable = true)\n |    |    |-- Crime: long (nullable = true)\n |    |    |-- Crowdfunded: long (nullable = true)\n |    |    |-- Cult Classic: long (nullable = true)\n |    |    |-- Cute: long (nullable = true)\n |    |    |-- Cyberpunk: long (nullable = true)\n |    |    |-- Cycling: long (nullable = true)\n |    |    |-- Dark: long (nullable = true)\n |    |    |-- Dark Comedy: long (nullable = true)\n |    |    |-- Dark Fantasy: long (nullable = true)\n |    |    |-- Dark Humor: long (nullable = true)\n |    |    |-- Dating Sim: long (nullable = true)\n |    |    |-- Deckbuilding: long (nullable = true)\n |    |    |-- Demons: long (nullable = true)\n |    |    |-- Design & Illustration: long (nullable = true)\n |    |    |-- Destruction: long (nullable = true)\n |    |    |-- Detective: long (nullable = true)\n |    |    |-- Difficult: long (nullable = true)\n |    |    |-- Dinosaurs: long (nullable = true)\n |    |    |-- Diplomacy: long (nullable = true)\n |    |    |-- Documentary: long (nullable = true)\n |    |    |-- Dog: long (nullable = true)\n |    |    |-- Dragons: long (nullable = true)\n |    |    |-- Drama: long (nullable = true)\n |    |    |-- Driving: long (nullable = true)\n |    |    |-- Dungeon Crawler: long (nullable = true)\n |    |    |-- Dungeons & Dragons: long (nullable = true)\n |    |    |-- Dynamic Narration: long (nullable = true)\n |    |    |-- Dystopian : long (nullable = true)\n |    |    |-- Early Access: long (nullable = true)\n |    |    |-- Economy: long (nullable = true)\n |    |    |-- Education: long (nullable = true)\n |    |    |-- Electronic: long (nullable = true)\n |    |    |-- Electronic Music: long (nullable = true)\n |    |    |-- Emotional: long (nullable = true)\n |    |    |-- Epic: long (nullable = true)\n |    |    |-- Episodic: long (nullable = true)\n |    |    |-- Escape Room: long (nullable = true)\n |    |    |-- Experience: long (nullable = true)\n |    |    |-- Experimental: long (nullable = true)\n |    |    |-- Exploration: long (nullable = true)\n |    |    |-- FMV: long (nullable = true)\n |    |    |-- FPS: long (nullable = true)\n |    |    |-- Faith: long (nullable = true)\n |    |    |-- Family Friendly: long (nullable = true)\n |    |    |-- Fantasy: long (nullable = true)\n |    |    |-- Farming: long (nullable = true)\n |    |    |-- Farming Sim: long (nullable = true)\n |    |    |-- Fast-Paced: long (nullable = true)\n |    |    |-- Feature Film: long (nullable = true)\n |    |    |-- Female Protagonist: long (nullable = true)\n |    |    |-- Fighting: long (nullable = true)\n |    |    |-- First-Person: long (nullable = true)\n |    |    |-- Fishing: long (nullable = true)\n |    |    |-- Flight: long (nullable = true)\n |    |    |-- Football: long (nullable = true)\n |    |    |-- Foreign: long (nullable = true)\n |    |    |-- Free to Play: long (nullable = true)\n |    |    |-- Funny: long (nullable = true)\n |    |    |-- Futuristic: long (nullable = true)\n |    |    |-- Gambling: long (nullable = true)\n |    |    |-- Game Development: long (nullable = true)\n |    |    |-- GameMaker: long (nullable = true)\n |    |    |-- Games Workshop: long (nullable = true)\n |    |    |-- Gaming: long (nullable = true)\n |    |    |-- God Game: long (nullable = true)\n |    |    |-- Golf: long (nullable = true)\n |    |    |-- Gore: long (nullable = true)\n |    |    |-- Gothic: long (nullable = true)\n |    |    |-- Grand Strategy: long (nullable = true)\n |    |    |-- Great Soundtrack: long (nullable = true)\n |    |    |-- Grid-Based Movement: long (nullable = true)\n |    |    |-- Gun Customization: long (nullable = true)\n |    |    |-- Hack and Slash: long (nullable = true)\n |    |    |-- Hacking: long (nullable = true)\n |    |    |-- Hand-drawn: long (nullable = true)\n |    |    |-- Hardware: long (nullable = true)\n |    |    |-- Heist: long (nullable = true)\n |    |    |-- Hentai: long (nullable = true)\n |    |    |-- Hero Shooter: long (nullable = true)\n |    |    |-- Hex Grid: long (nullable = true)\n |    |    |-- Hidden Object: long (nullable = true)\n |    |    |-- Historical: long (nullable = true)\n |    |    |-- Hockey: long (nullable = true)\n |    |    |-- Horror: long (nullable = true)\n |    |    |-- Horses: long (nullable = true)\n |    |    |-- Hunting: long (nullable = true)\n |    |    |-- Idler: long (nullable = true)\n |    |    |-- Illuminati: long (nullable = true)\n |    |    |-- Immersive: long (nullable = true)\n |    |    |-- Immersive Sim: long (nullable = true)\n |    |    |-- Indie: long (nullable = true)\n |    |    |-- Instrumental Music: long (nullable = true)\n |    |    |-- Intentionally Awkward Controls: long (nullable = true)\n |    |    |-- Interactive Fiction: long (nullable = true)\n |    |    |-- Inventory Management: long (nullable = true)\n |    |    |-- Investigation: long (nullable = true)\n |    |    |-- Isometric: long (nullable = true)\n |    |    |-- JRPG: long (nullable = true)\n |    |    |-- Jet: long (nullable = true)\n |    |    |-- Job Simulator: long (nullable = true)\n |    |    |-- Jump Scare: long (nullable = true)\n |    |    |-- Kickstarter: long (nullable = true)\n |    |    |-- LEGO: long (nullable = true)\n |    |    |-- LGBTQ+: long (nullable = true)\n |    |    |-- Lemmings: long (nullable = true)\n |    |    |-- Level Editor: long (nullable = true)\n |    |    |-- Life Sim: long (nullable = true)\n |    |    |-- Linear: long (nullable = true)\n |    |    |-- Local Co-Op: long (nullable = true)\n |    |    |-- Local Multiplayer: long (nullable = true)\n |    |    |-- Logic: long (nullable = true)\n |    |    |-- Loot: long (nullable = true)\n |    |    |-- Looter Shooter: long (nullable = true)\n |    |    |-- Lore-Rich: long (nullable = true)\n |    |    |-- Lovecraftian: long (nullable = true)\n |    |    |-- MMORPG: long (nullable = true)\n |    |    |-- MOBA: long (nullable = true)\n |    |    |-- Magic: long (nullable = true)\n |    |    |-- Mahjong: long (nullable = true)\n |    |    |-- Management: long (nullable = true)\n |    |    |-- Mars: long (nullable = true)\n |    |    |-- Martial Arts: long (nullable = true)\n |    |    |-- Massively Multiplayer: long (nullable = true)\n |    |    |-- Masterpiece: long (nullable = true)\n |    |    |-- Match 3: long (nullable = true)\n |    |    |-- Mature: long (nullable = true)\n |    |    |-- Mechs: long (nullable = true)\n |    |    |-- Medical Sim: long (nullable = true)\n |    |    |-- Medieval: long (nullable = true)\n |    |    |-- Memes: long (nullable = true)\n |    |    |-- Metroidvania: long (nullable = true)\n |    |    |-- Military: long (nullable = true)\n |    |    |-- Mini Golf: long (nullable = true)\n |    |    |-- Minigames: long (nullable = true)\n |    |    |-- Minimalist: long (nullable = true)\n |    |    |-- Mining: long (nullable = true)\n |    |    |-- Mod: long (nullable = true)\n |    |    |-- Moddable: long (nullable = true)\n |    |    |-- Modern: long (nullable = true)\n |    |    |-- Motocross: long (nullable = true)\n |    |    |-- Motorbike: long (nullable = true)\n |    |    |-- Mouse only: long (nullable = true)\n |    |    |-- Movie: long (nullable = true)\n |    |    |-- Multiplayer: long (nullable = true)\n |    |    |-- Multiple Endings: long (nullable = true)\n |    |    |-- Music: long (nullable = true)\n |    |    |-- Music-Based Procedural Generation: long (nullable = true)\n |    |    |-- Musou: long (nullable = true)\n |    |    |-- Mystery: long (nullable = true)\n |    |    |-- Mystery Dungeon: long (nullable = true)\n |    |    |-- Mythology: long (nullable = true)\n |    |    |-- NSFW: long (nullable = true)\n |    |    |-- Narration: long (nullable = true)\n |    |    |-- Narrative: long (nullable = true)\n |    |    |-- Nature: long (nullable = true)\n |    |    |-- Naval: long (nullable = true)\n |    |    |-- Naval Combat: long (nullable = true)\n |    |    |-- Ninja: long (nullable = true)\n |    |    |-- Noir: long (nullable = true)\n |    |    |-- Nonlinear: long (nullable = true)\n |    |    |-- Nostalgia: long (nullable = true)\n |    |    |-- Nudity: long (nullable = true)\n |    |    |-- Offroad: long (nullable = true)\n |    |    |-- Old School: long (nullable = true)\n |    |    |-- On-Rails Shooter: long (nullable = true)\n |    |    |-- Online Co-Op: long (nullable = true)\n |    |    |-- Open World: long (nullable = true)\n |    |    |-- Open World Survival Craft: long (nullable = true)\n |    |    |-- Otome: long (nullable = true)\n |    |    |-- Outbreak Sim: long (nullable = true)\n |    |    |-- Parkour: long (nullable = true)\n |    |    |-- Parody : long (nullable = true)\n |    |    |-- Party: long (nullable = true)\n |    |    |-- Party Game: long (nullable = true)\n |    |    |-- Party-Based RPG: long (nullable = true)\n |    |    |-- Perma Death: long (nullable = true)\n |    |    |-- Philosophical: long (nullable = true)\n |    |    |-- Photo Editing: long (nullable = true)\n |    |    |-- Physics: long (nullable = true)\n |    |    |-- Pinball: long (nullable = true)\n |    |    |-- Pirates: long (nullable = true)\n |    |    |-- Pixel Graphics: long (nullable = true)\n |    |    |-- Platformer: long (nullable = true)\n |    |    |-- Point & Click: long (nullable = true)\n |    |    |-- Political: long (nullable = true)\n |    |    |-- Political Sim: long (nullable = true)\n |    |    |-- Politics: long (nullable = true)\n |    |    |-- Pool: long (nullable = true)\n |    |    |-- Post-apocalyptic: long (nullable = true)\n |    |    |-- Precision Platformer: long (nullable = true)\n |    |    |-- Procedural Generation: long (nullable = true)\n |    |    |-- Programming: long (nullable = true)\n |    |    |-- Psychedelic: long (nullable = true)\n |    |    |-- Psychological: long (nullable = true)\n |    |    |-- Psychological Horror: long (nullable = true)\n |    |    |-- Puzzle: long (nullable = true)\n |    |    |-- Puzzle-Platformer: long (nullable = true)\n |    |    |-- PvE: long (nullable = true)\n |    |    |-- PvP: long (nullable = true)\n |    |    |-- Quick-Time Events: long (nullable = true)\n |    |    |-- RPG: long (nullable = true)\n |    |    |-- RPGMaker: long (nullable = true)\n |    |    |-- RTS: long (nullable = true)\n |    |    |-- Racing: long (nullable = true)\n |    |    |-- Real Time Tactics: long (nullable = true)\n |    |    |-- Real-Time: long (nullable = true)\n |    |    |-- Real-Time with Pause: long (nullable = true)\n |    |    |-- Realistic: long (nullable = true)\n |    |    |-- Reboot: long (nullable = true)\n |    |    |-- Relaxing: long (nullable = true)\n |    |    |-- Remake: long (nullable = true)\n |    |    |-- Replay Value: long (nullable = true)\n |    |    |-- Resource Management: long (nullable = true)\n |    |    |-- Retro: long (nullable = true)\n |    |    |-- Rhythm: long (nullable = true)\n |    |    |-- Robots: long (nullable = true)\n |    |    |-- Rock Music: long (nullable = true)\n |    |    |-- Rogue-like: long (nullable = true)\n |    |    |-- Rogue-lite: long (nullable = true)\n |    |    |-- Roguelike Deckbuilder: long (nullable = true)\n |    |    |-- Roguevania: long (nullable = true)\n |    |    |-- Romance: long (nullable = true)\n |    |    |-- Rome: long (nullable = true)\n |    |    |-- Rugby: long (nullable = true)\n |    |    |-- Runner: long (nullable = true)\n |    |    |-- Sailing: long (nullable = true)\n |    |    |-- Sandbox: long (nullable = true)\n |    |    |-- Satire: long (nullable = true)\n |    |    |-- Sci-fi: long (nullable = true)\n |    |    |-- Science: long (nullable = true)\n |    |    |-- Score Attack: long (nullable = true)\n |    |    |-- Sequel: long (nullable = true)\n |    |    |-- Sexual Content: long (nullable = true)\n |    |    |-- Shoot 'Em Up: long (nullable = true)\n |    |    |-- Shooter: long (nullable = true)\n |    |    |-- Shop Keeper: long (nullable = true)\n |    |    |-- Short: long (nullable = true)\n |    |    |-- Side Scroller: long (nullable = true)\n |    |    |-- Silent Protagonist: long (nullable = true)\n |    |    |-- Simulation: long (nullable = true)\n |    |    |-- Singleplayer: long (nullable = true)\n |    |    |-- Skateboarding: long (nullable = true)\n |    |    |-- Skating: long (nullable = true)\n |    |    |-- Skiing: long (nullable = true)\n |    |    |-- Sniper: long (nullable = true)\n |    |    |-- Snooker: long (nullable = true)\n |    |    |-- Snow: long (nullable = true)\n |    |    |-- Snowboarding: long (nullable = true)\n |    |    |-- Soccer: long (nullable = true)\n |    |    |-- Social Deduction: long (nullable = true)\n |    |    |-- Software: long (nullable = true)\n |    |    |-- Software Training: long (nullable = true)\n |    |    |-- Sokoban: long (nullable = true)\n |    |    |-- Solitaire: long (nullable = true)\n |    |    |-- Souls-like: long (nullable = true)\n |    |    |-- Soundtrack: long (nullable = true)\n |    |    |-- Space: long (nullable = true)\n |    |    |-- Space Sim: long (nullable = true)\n |    |    |-- Spaceships: long (nullable = true)\n |    |    |-- Spectacle fighter: long (nullable = true)\n |    |    |-- Spelling: long (nullable = true)\n |    |    |-- Split Screen: long (nullable = true)\n |    |    |-- Sports: long (nullable = true)\n |    |    |-- Stealth: long (nullable = true)\n |    |    |-- Steam Machine: long (nullable = true)\n |    |    |-- Steampunk: long (nullable = true)\n |    |    |-- Story Rich: long (nullable = true)\n |    |    |-- Strategy: long (nullable = true)\n |    |    |-- Strategy RPG: long (nullable = true)\n |    |    |-- Stylized: long (nullable = true)\n |    |    |-- Submarine: long (nullable = true)\n |    |    |-- Superhero: long (nullable = true)\n |    |    |-- Supernatural: long (nullable = true)\n |    |    |-- Surreal: long (nullable = true)\n |    |    |-- Survival: long (nullable = true)\n |    |    |-- Survival Horror: long (nullable = true)\n |    |    |-- Swordplay: long (nullable = true)\n |    |    |-- Tabletop: long (nullable = true)\n |    |    |-- Tactical: long (nullable = true)\n |    |    |-- Tactical RPG: long (nullable = true)\n |    |    |-- Tanks: long (nullable = true)\n |    |    |-- Team-Based: long (nullable = true)\n |    |    |-- Tennis: long (nullable = true)\n |    |    |-- Text-Based: long (nullable = true)\n |    |    |-- Third Person: long (nullable = true)\n |    |    |-- Third-Person Shooter: long (nullable = true)\n |    |    |-- Thriller: long (nullable = true)\n |    |    |-- Tile-Matching: long (nullable = true)\n |    |    |-- Time Attack: long (nullable = true)\n |    |    |-- Time Management: long (nullable = true)\n |    |    |-- Time Manipulation: long (nullable = true)\n |    |    |-- Time Travel: long (nullable = true)\n |    |    |-- Top-Down: long (nullable = true)\n |    |    |-- Top-Down Shooter: long (nullable = true)\n |    |    |-- Touch-Friendly: long (nullable = true)\n |    |    |-- Tower Defense: long (nullable = true)\n |    |    |-- TrackIR: long (nullable = true)\n |    |    |-- Trading: long (nullable = true)\n |    |    |-- Trading Card Game: long (nullable = true)\n |    |    |-- Traditional Roguelike: long (nullable = true)\n |    |    |-- Trains: long (nullable = true)\n |    |    |-- Transhumanism: long (nullable = true)\n |    |    |-- Transportation: long (nullable = true)\n |    |    |-- Trivia: long (nullable = true)\n |    |    |-- Turn-Based: long (nullable = true)\n |    |    |-- Turn-Based Combat: long (nullable = true)\n |    |    |-- Turn-Based Strategy: long (nullable = true)\n |    |    |-- Turn-Based Tactics: long (nullable = true)\n |    |    |-- Tutorial: long (nullable = true)\n |    |    |-- Twin Stick Shooter: long (nullable = true)\n |    |    |-- Typing: long (nullable = true)\n |    |    |-- Underground: long (nullable = true)\n |    |    |-- Underwater: long (nullable = true)\n |    |    |-- Unforgiving: long (nullable = true)\n |    |    |-- Utilities: long (nullable = true)\n |    |    |-- VR: long (nullable = true)\n |    |    |-- VR Only: long (nullable = true)\n |    |    |-- Vampire: long (nullable = true)\n |    |    |-- Vehicular Combat: long (nullable = true)\n |    |    |-- Video Production: long (nullable = true)\n |    |    |-- Vikings: long (nullable = true)\n |    |    |-- Villain Protagonist: long (nullable = true)\n |    |    |-- Violent: long (nullable = true)\n |    |    |-- Visual Novel: long (nullable = true)\n |    |    |-- Voice Control: long (nullable = true)\n |    |    |-- Volleyball: long (nullable = true)\n |    |    |-- Voxel: long (nullable = true)\n |    |    |-- Walking Simulator: long (nullable = true)\n |    |    |-- War: long (nullable = true)\n |    |    |-- Wargame: long (nullable = true)\n |    |    |-- Warhammer 40K: long (nullable = true)\n |    |    |-- Web Publishing: long (nullable = true)\n |    |    |-- Well-Written: long (nullable = true)\n |    |    |-- Werewolves: long (nullable = true)\n |    |    |-- Western: long (nullable = true)\n |    |    |-- Wholesome: long (nullable = true)\n |    |    |-- Word Game: long (nullable = true)\n |    |    |-- World War I: long (nullable = true)\n |    |    |-- World War II: long (nullable = true)\n |    |    |-- Wrestling: long (nullable = true)\n |    |    |-- Zombies: long (nullable = true)\n |    |    |-- e-sports: long (nullable = true)\n |    |-- type: string (nullable = true)\n |    |-- website: string (nullable = true)\n |-- id: string (nullable = true)\n\n"
     ]
    }
   ],
   "source": [
    "# Nous pouvons voir qu’il s’agit d’une structure imbriquée donc nous devons aplatir la colonne \"data\"\n",
    "df.printSchema()"
   ]
  },
  {
   "cell_type": "markdown",
   "metadata": {
    "application/vnd.databricks.v1+cell": {
     "cellMetadata": {
      "byteLimit": 2048000,
      "rowLimit": 10000
     },
     "inputWidgets": {},
     "nuid": "47df325a-8f10-462a-9ebf-26cea8db06e6",
     "showTitle": false,
     "title": ""
    }
   },
   "source": [
    "I-Analysis at the \"macro\" level"
   ]
  },
  {
   "cell_type": "code",
   "execution_count": 0,
   "metadata": {
    "application/vnd.databricks.v1+cell": {
     "cellMetadata": {
      "byteLimit": 2048000,
      "rowLimit": 10000
     },
     "inputWidgets": {},
     "nuid": "34655010-0984-40e2-bc98-2bdfc129560b",
     "showTitle": false,
     "title": ""
    }
   },
   "outputs": [
    {
     "output_type": "stream",
     "name": "stdout",
     "output_type": "stream",
     "text": [
      "+-------+--------------------+-----+----------------------------+--------+--------------------+--------------------+------------+--------------------+------------------------------------+--------+--------------------+--------------------+--------+-----+----------------------------+------------+------------+-------------------------------------+--------------------+----+--------------------+\n|  appid|          categories|  ccu|                   developer|discount|               genre|        header_image|initialprice|           languages|                                name|negative|              owners|           platforms|positive|price|                   publisher|release_date|required_age|                    short_description|                tags|type|             website|\n+-------+--------------------+-----+----------------------------+--------+--------------------+--------------------+------------+--------------------+------------------------------------+--------+--------------------+--------------------+--------+-----+----------------------------+------------+------------+-------------------------------------+--------------------+----+--------------------+\n|     10|[Multi-player, Va...|13990|                       Valve|       0|              Action|https://cdn.akama...|         999|English, French, ...|                      Counter-Strike|    5199|10,000,000 .. 20,...|  {true, true, true}|  201215|  999|                       Valve|   2000/11/1|           0|                 Play the world's ...|{266, 1191, null,...|game|                    |\n|1000000|[Single-player, P...|    0|        IndigoBlue Game S...|       0|Action, Adventure...|https://cdn.akama...|         999|English, Korean, ...|                           ASCENXION|       5|         0 .. 20,000|{false, false, true}|      27|  999|        PsychoFlux Entert...|  2021/05/14|           0|                 ASCENXION is a 2D...|{null, null, null...|game|                    |\n|1000010|[Single-player, P...|   99|                NEXT Studios|      70|Adventure, Indie,...|https://cdn.akama...|        1999|Simplified Chines...|                         Crown Trick|     646|  200,000 .. 500,000|{false, false, true}|    4032|  599|        Team17, NEXT Studios|  2020/10/16|           0|                 Enter a labyrinth...|{null, null, null...|game|                    |\n|1000030|[Multi-player, Si...|   76|         Vertigo Gaming Inc.|       0|Action, Indie, Si...|https://cdn.akama...|        1999|             English|                Cook, Serve, Deli...|     115|  100,000 .. 200,000| {false, true, true}|    1575| 1999|         Vertigo Gaming Inc.|  2020/10/14|           0|                 Cook, serve and m...|{null, null, null...|game|http://www.cookse...|\n|1000040|     [Single-player]|    0|               DoubleC Games|       0|Action, Casual, I...|https://cdn.akama...|         199|  Simplified Chinese|                            细胞战争|       1|         0 .. 20,000|{false, false, true}|       0|  199|               DoubleC Games|  2019/03/30|           0|这是一款打击感十足的细胞主题游戏！...|{null, null, null...|game|                    |\n|1000080|[Multi-player, Si...|    3|          IndieLeague Studio|      60|Action, Adventure...|https://cdn.akama...|        1999|Simplified Chines...|                             Zengeon|     462|  100,000 .. 200,000| {false, true, true}|    1018|  799|                    2P Games|  2019/06/24|           0|                 Zengeon is an ani...|{null, null, null...|game|                    |\n|1000100|[Single-player, S...|    0|                    七月九日|       0|Adventure, Indie,...|https://cdn.akama...|        1299|Japanese, Simplif...|干支セトラ　陽ノ卷｜干支etc.　陽之卷|       6|         0 .. 20,000|{false, false, true}|      18| 1299|             Starship Studio|  2019/01/24|           0|耐用年数を超えて綻びゆく都市風水を...|{null, null, null...|game|http://0709.noor....|\n|1000110|[Multi-player, Si...|    0|          重庆环游者网络科技|       0|Action, Adventure...|https://cdn.akama...|           0|English, Simplifi...|            Jumping Master(跳跳大咖)|      34|    20,000 .. 50,000|{false, false, true}|      50|    0|          重庆环游者网络科技|   2019/04/8|           0|                 Jumping Master is...|{null, null, null...|game|http://www.huanyz...|\n|1000130|[Single-player, S...|    0|            Simon Codrington|       0|       Casual, Indie|https://cdn.akama...|         299|             English|                       Cube Defender|       0|         0 .. 20,000| {false, true, true}|       6|  299|            Simon Codrington|   2019/01/6|           0|                 Build turrets and...|{null, null, null...|game|                    |\n|1000280|     [Single-player]|    0|                Villain Role|       0|          Indie, RPG|https://cdn.akama...|        1399|English, Simplifi...|                Tower of Origin2-...|      12|         0 .. 20,000|{false, false, true}|      32| 1399|                Villain Role|   2021/09/9|           0|                 As the protagonis...|{null, null, null...|game|https://weibo.com...|\n|1000310|[Multi-player, Si...|    0|海南众铖互娱网络科技有限公司|       0|Action, RPG, Stra...|https://cdn.akama...|          99|  Simplified Chinese|                      人气动漫大乱斗|       5|         0 .. 20,000|{false, false, true}|       1|   99|海南众铖互娱网络科技有限公司|  2019/12/17|           0|这是一款动漫呆萌与战斗激情完美交融...|{null, null, null...|game|                    |\n|1000360|[Multi-player, Si...|   59|                      Kubold|       0|Action, Early Access|https://cdn.akama...|        1699|English, Simplifi...|                       Hellish Quart|     315|  200,000 .. 500,000|{false, false, true}|    4031| 1699|                      Kubold|  2021/02/16|           0|                 A physics-based, ...|{null, null, null...|game|https://www.helli...|\n|1000370|     [Single-player]|    0|                 LFiO Studio|       0|               Indie|https://cdn.akama...|           0|             English|                      SurReal Subway|       1|         0 .. 20,000|{false, false, true}|       0|    0|                 LFiO Studio|   2019/01/3|           0|                 It's a Horror gam...|{null, null, null...|game|                    |\n|1000380|[Single-player, S...|    0|            Fireroot Studios|       0|Action, Adventure...|https://cdn.akama...|           0|             English|                        Rogue Reaper|      87|  100,000 .. 200,000|{false, false, true}|     309|    0|            Fireroot Studios|   2019/02/1|           0|                 Rogue Reaper is a...|{null, null, null...|game|https://roguereap...|\n|1000410|     [Single-player]|    6|                   KillPixel|       0|Action, Early Access|https://cdn.akama...|        2499|             English|                 WRATH: Aeon of Ruin|     328|    20,000 .. 50,000|{false, false, true}|    1212| 2499|        3D Realms, Fulqru...|  2019/11/22|           0|                 3D Realms, creato...|{null, 8, null, n...|game|http://www.wrath....|\n|1000470|[Single-player, S...|    0|                DarkDes Labs|       0|Adventure, Indie,...|https://cdn.akama...|         499|English, Russian,...|                Drawngeon: Dungeo...|      13|    20,000 .. 50,000|{false, false, true}|      55|  499|                DarkDes Labs|  2019/05/24|           0|                 Inkland - the han...|{null, null, null...|game|                    |\n|1000480|     [Single-player]|    0|                Meadow Games|       0|Action, Indie, RP...|https://cdn.akama...|         999|             English|                       Battle Motion|       6|         0 .. 20,000|  {true, true, true}|       9|  999|                Meadow Games|   2019/02/4|           0|                 Single-player act...|{null, null, null...|game|                    |\n|1000500|[Multi-player, Si...|    0|                    Amonga99|       0|Action, Casual, I...|https://cdn.akama...|         699|English, French, ...|                The Undisputables...|       3|  100,000 .. 200,000|  {true, true, true}|       9|  699|                    Amonga99|   2021/12/5|           0|                 The Undisputables...|{null, null, null...|game|https://amonga99.com|\n|1000510|                  []|    0|            1337 Game Design|       0|           Education|https://cdn.akama...|           0|             English|                The Marvellous Ma...|      21|    20,000 .. 50,000|{false, false, true}|     104|    0|            1337 Game Design|  2019/02/11|           0|                 The Marvellous Ma...|{null, null, null...|game|https://www.1337g...|\n|1000540|[Multi-player, St...|    0|              Hellride Games|       0|Casual, Free to P...|https://cdn.akama...|           0|             English|                    Tactical Control|      12|    20,000 .. 50,000|{false, false, true}|      53|    0|              Hellride Games|  2019/03/21|           0|                 Tactical Control:...|{null, null, null...|game|                    |\n+-------+--------------------+-----+----------------------------+--------+--------------------+--------------------+------------+--------------------+------------------------------------+--------+--------------------+--------------------+--------+-----+----------------------------+------------+------------+-------------------------------------+--------------------+----+--------------------+\nonly showing top 20 rows\n\n"
     ]
    }
   ],
   "source": [
    "# Nous ne pouvons conserver que la colonne 'data' car les id et appid sont dupliqués dans notre dataframe\n",
    "df_data = df.select(\"data.*\")\n",
    "df_data.show()"
   ]
  },
  {
   "cell_type": "code",
   "execution_count": 0,
   "metadata": {
    "application/vnd.databricks.v1+cell": {
     "cellMetadata": {
      "byteLimit": 2048000,
      "rowLimit": 10000
     },
     "inputWidgets": {},
     "nuid": "952e1609-8353-4373-8da5-28ec8f7792c1",
     "showTitle": false,
     "title": ""
    }
   },
   "outputs": [],
   "source": [
    "# avec cette méthode de pandas, on peut afficher toutes les colonnes de dataset (au lieu d'avoir ... entre les colonnes)\n",
    "pd.options.display.max_columns = None"
   ]
  },
  {
   "cell_type": "code",
   "execution_count": 0,
   "metadata": {
    "application/vnd.databricks.v1+cell": {
     "cellMetadata": {
      "byteLimit": 2048000,
      "rowLimit": 10000
     },
     "inputWidgets": {},
     "nuid": "675f6f7f-2fd9-445b-a732-030e6929c8da",
     "showTitle": false,
     "title": ""
    }
   },
   "outputs": [
    {
     "output_type": "display_data",
     "data": {
      "text/html": [
       "<div>\n",
       "<style scoped>\n",
       "    .dataframe tbody tr th:only-of-type {\n",
       "        vertical-align: middle;\n",
       "    }\n",
       "\n",
       "    .dataframe tbody tr th {\n",
       "        vertical-align: top;\n",
       "    }\n",
       "\n",
       "    .dataframe thead th {\n",
       "        text-align: right;\n",
       "    }\n",
       "</style>\n",
       "<table border=\"1\" class=\"dataframe\">\n",
       "  <thead>\n",
       "    <tr style=\"text-align: right;\">\n",
       "      <th></th>\n",
       "      <th>appid</th>\n",
       "      <th>categories</th>\n",
       "      <th>ccu</th>\n",
       "      <th>developer</th>\n",
       "      <th>discount</th>\n",
       "      <th>genre</th>\n",
       "      <th>header_image</th>\n",
       "      <th>initialprice</th>\n",
       "      <th>languages</th>\n",
       "      <th>name</th>\n",
       "      <th>negative</th>\n",
       "      <th>owners</th>\n",
       "      <th>platforms</th>\n",
       "      <th>positive</th>\n",
       "      <th>price</th>\n",
       "      <th>publisher</th>\n",
       "      <th>release_date</th>\n",
       "      <th>required_age</th>\n",
       "      <th>short_description</th>\n",
       "      <th>tags</th>\n",
       "      <th>type</th>\n",
       "      <th>website</th>\n",
       "    </tr>\n",
       "  </thead>\n",
       "  <tbody>\n",
       "    <tr>\n",
       "      <th>0</th>\n",
       "      <td>10</td>\n",
       "      <td>[Multi-player, Valve Anti-Cheat enabled, Onlin...</td>\n",
       "      <td>13990</td>\n",
       "      <td>Valve</td>\n",
       "      <td>0</td>\n",
       "      <td>Action</td>\n",
       "      <td>https://cdn.akamai.steamstatic.com/steam/apps/...</td>\n",
       "      <td>999</td>\n",
       "      <td>English, French, German, Italian, Spanish - Sp...</td>\n",
       "      <td>Counter-Strike</td>\n",
       "      <td>5199</td>\n",
       "      <td>10,000,000 .. 20,000,000</td>\n",
       "      <td>{'linux': True, 'mac': True, 'windows': True}</td>\n",
       "      <td>201215</td>\n",
       "      <td>999</td>\n",
       "      <td>Valve</td>\n",
       "      <td>2000/11/1</td>\n",
       "      <td>0</td>\n",
       "      <td>Play the world's number 1 online action game. ...</td>\n",
       "      <td>{'1980s': 266.0, '1990's': 1191.0, '2.5D': Non...</td>\n",
       "      <td>game</td>\n",
       "      <td></td>\n",
       "    </tr>\n",
       "    <tr>\n",
       "      <th>1</th>\n",
       "      <td>1000000</td>\n",
       "      <td>[Single-player, Partial Controller Support, St...</td>\n",
       "      <td>0</td>\n",
       "      <td>IndigoBlue Game Studio</td>\n",
       "      <td>0</td>\n",
       "      <td>Action, Adventure, Indie</td>\n",
       "      <td>https://cdn.akamai.steamstatic.com/steam/apps/...</td>\n",
       "      <td>999</td>\n",
       "      <td>English, Korean, Simplified Chinese</td>\n",
       "      <td>ASCENXION</td>\n",
       "      <td>5</td>\n",
       "      <td>0 .. 20,000</td>\n",
       "      <td>{'linux': False, 'mac': False, 'windows': True}</td>\n",
       "      <td>27</td>\n",
       "      <td>999</td>\n",
       "      <td>PsychoFlux Entertainment</td>\n",
       "      <td>2021/05/14</td>\n",
       "      <td>0</td>\n",
       "      <td>ASCENXION is a 2D shoot 'em up game where you ...</td>\n",
       "      <td>{'1980s': None, '1990's': None, '2.5D': None, ...</td>\n",
       "      <td>game</td>\n",
       "      <td></td>\n",
       "    </tr>\n",
       "    <tr>\n",
       "      <th>2</th>\n",
       "      <td>1000010</td>\n",
       "      <td>[Single-player, Partial Controller Support, St...</td>\n",
       "      <td>99</td>\n",
       "      <td>NEXT Studios</td>\n",
       "      <td>70</td>\n",
       "      <td>Adventure, Indie, RPG, Strategy</td>\n",
       "      <td>https://cdn.akamai.steamstatic.com/steam/apps/...</td>\n",
       "      <td>1999</td>\n",
       "      <td>Simplified Chinese, English, Japanese, Traditi...</td>\n",
       "      <td>Crown Trick</td>\n",
       "      <td>646</td>\n",
       "      <td>200,000 .. 500,000</td>\n",
       "      <td>{'linux': False, 'mac': False, 'windows': True}</td>\n",
       "      <td>4032</td>\n",
       "      <td>599</td>\n",
       "      <td>Team17, NEXT Studios</td>\n",
       "      <td>2020/10/16</td>\n",
       "      <td>0</td>\n",
       "      <td>Enter a labyrinth that moves as you move, wher...</td>\n",
       "      <td>{'1980s': None, '1990's': None, '2.5D': None, ...</td>\n",
       "      <td>game</td>\n",
       "      <td></td>\n",
       "    </tr>\n",
       "  </tbody>\n",
       "</table>\n",
       "</div>"
      ]
     },
     "metadata": {
      "application/vnd.databricks.v1+output": {
       "addedWidgets": {},
       "arguments": {},
       "data": "<div>\n<style scoped>\n    .dataframe tbody tr th:only-of-type {\n        vertical-align: middle;\n    }\n\n    .dataframe tbody tr th {\n        vertical-align: top;\n    }\n\n    .dataframe thead th {\n        text-align: right;\n    }\n</style>\n<table border=\"1\" class=\"dataframe\">\n  <thead>\n    <tr style=\"text-align: right;\">\n      <th></th>\n      <th>appid</th>\n      <th>categories</th>\n      <th>ccu</th>\n      <th>developer</th>\n      <th>discount</th>\n      <th>genre</th>\n      <th>header_image</th>\n      <th>initialprice</th>\n      <th>languages</th>\n      <th>name</th>\n      <th>negative</th>\n      <th>owners</th>\n      <th>platforms</th>\n      <th>positive</th>\n      <th>price</th>\n      <th>publisher</th>\n      <th>release_date</th>\n      <th>required_age</th>\n      <th>short_description</th>\n      <th>tags</th>\n      <th>type</th>\n      <th>website</th>\n    </tr>\n  </thead>\n  <tbody>\n    <tr>\n      <th>0</th>\n      <td>10</td>\n      <td>[Multi-player, Valve Anti-Cheat enabled, Onlin...</td>\n      <td>13990</td>\n      <td>Valve</td>\n      <td>0</td>\n      <td>Action</td>\n      <td>https://cdn.akamai.steamstatic.com/steam/apps/...</td>\n      <td>999</td>\n      <td>English, French, German, Italian, Spanish - Sp...</td>\n      <td>Counter-Strike</td>\n      <td>5199</td>\n      <td>10,000,000 .. 20,000,000</td>\n      <td>{'linux': True, 'mac': True, 'windows': True}</td>\n      <td>201215</td>\n      <td>999</td>\n      <td>Valve</td>\n      <td>2000/11/1</td>\n      <td>0</td>\n      <td>Play the world's number 1 online action game. ...</td>\n      <td>{'1980s': 266.0, '1990's': 1191.0, '2.5D': Non...</td>\n      <td>game</td>\n      <td></td>\n    </tr>\n    <tr>\n      <th>1</th>\n      <td>1000000</td>\n      <td>[Single-player, Partial Controller Support, St...</td>\n      <td>0</td>\n      <td>IndigoBlue Game Studio</td>\n      <td>0</td>\n      <td>Action, Adventure, Indie</td>\n      <td>https://cdn.akamai.steamstatic.com/steam/apps/...</td>\n      <td>999</td>\n      <td>English, Korean, Simplified Chinese</td>\n      <td>ASCENXION</td>\n      <td>5</td>\n      <td>0 .. 20,000</td>\n      <td>{'linux': False, 'mac': False, 'windows': True}</td>\n      <td>27</td>\n      <td>999</td>\n      <td>PsychoFlux Entertainment</td>\n      <td>2021/05/14</td>\n      <td>0</td>\n      <td>ASCENXION is a 2D shoot 'em up game where you ...</td>\n      <td>{'1980s': None, '1990's': None, '2.5D': None, ...</td>\n      <td>game</td>\n      <td></td>\n    </tr>\n    <tr>\n      <th>2</th>\n      <td>1000010</td>\n      <td>[Single-player, Partial Controller Support, St...</td>\n      <td>99</td>\n      <td>NEXT Studios</td>\n      <td>70</td>\n      <td>Adventure, Indie, RPG, Strategy</td>\n      <td>https://cdn.akamai.steamstatic.com/steam/apps/...</td>\n      <td>1999</td>\n      <td>Simplified Chinese, English, Japanese, Traditi...</td>\n      <td>Crown Trick</td>\n      <td>646</td>\n      <td>200,000 .. 500,000</td>\n      <td>{'linux': False, 'mac': False, 'windows': True}</td>\n      <td>4032</td>\n      <td>599</td>\n      <td>Team17, NEXT Studios</td>\n      <td>2020/10/16</td>\n      <td>0</td>\n      <td>Enter a labyrinth that moves as you move, wher...</td>\n      <td>{'1980s': None, '1990's': None, '2.5D': None, ...</td>\n      <td>game</td>\n      <td></td>\n    </tr>\n  </tbody>\n</table>\n</div>",
       "datasetInfos": [],
       "metadata": {},
       "removedWidgets": [],
       "textData": null,
       "type": "htmlSandbox"
      }
     },
     "output_type": "display_data"
    }
   ],
   "source": [
    "df_data.toPandas().head(3)\n"
   ]
  },
  {
   "cell_type": "code",
   "execution_count": 0,
   "metadata": {
    "application/vnd.databricks.v1+cell": {
     "cellMetadata": {
      "byteLimit": 2048000,
      "rowLimit": 10000
     },
     "inputWidgets": {},
     "nuid": "da23e5b9-7dd5-4e4f-adb4-d6d2afeebc78",
     "showTitle": false,
     "title": ""
    }
   },
   "outputs": [],
   "source": [
    "dfk_data = df_data.to_koalas()"
   ]
  },
  {
   "cell_type": "code",
   "execution_count": 0,
   "metadata": {
    "application/vnd.databricks.v1+cell": {
     "cellMetadata": {
      "byteLimit": 2048000,
      "rowLimit": 10000
     },
     "inputWidgets": {},
     "nuid": "784818ac-6c4f-473d-9715-3be55b989b6f",
     "showTitle": false,
     "title": ""
    }
   },
   "outputs": [
    {
     "output_type": "display_data",
     "data": {
      "text/html": [
       "<div>\n",
       "<style scoped>\n",
       "    .dataframe tbody tr th:only-of-type {\n",
       "        vertical-align: middle;\n",
       "    }\n",
       "\n",
       "    .dataframe tbody tr th {\n",
       "        vertical-align: top;\n",
       "    }\n",
       "\n",
       "    .dataframe thead th {\n",
       "        text-align: right;\n",
       "    }\n",
       "</style>\n",
       "<table border=\"1\" class=\"dataframe\">\n",
       "  <thead>\n",
       "    <tr style=\"text-align: right;\">\n",
       "      <th></th>\n",
       "      <th>appid</th>\n",
       "      <th>categories</th>\n",
       "      <th>ccu</th>\n",
       "      <th>developer</th>\n",
       "      <th>discount</th>\n",
       "      <th>genre</th>\n",
       "      <th>header_image</th>\n",
       "      <th>initialprice</th>\n",
       "      <th>languages</th>\n",
       "      <th>name</th>\n",
       "      <th>negative</th>\n",
       "      <th>owners</th>\n",
       "      <th>platforms</th>\n",
       "      <th>positive</th>\n",
       "      <th>price</th>\n",
       "      <th>publisher</th>\n",
       "      <th>release_date</th>\n",
       "      <th>required_age</th>\n",
       "      <th>short_description</th>\n",
       "      <th>tags</th>\n",
       "      <th>type</th>\n",
       "      <th>website</th>\n",
       "    </tr>\n",
       "  </thead>\n",
       "  <tbody>\n",
       "    <tr>\n",
       "      <th>0</th>\n",
       "      <td>10</td>\n",
       "      <td>[Multi-player, Valve Anti-Cheat enabled, Onlin...</td>\n",
       "      <td>13990</td>\n",
       "      <td>Valve</td>\n",
       "      <td>0</td>\n",
       "      <td>Action</td>\n",
       "      <td>https://cdn.akamai.steamstatic.com/steam/apps/...</td>\n",
       "      <td>999</td>\n",
       "      <td>English, French, German, Italian, Spanish - Sp...</td>\n",
       "      <td>Counter-Strike</td>\n",
       "      <td>5199</td>\n",
       "      <td>10,000,000 .. 20,000,000</td>\n",
       "      <td>{'linux': True, 'mac': True, 'windows': True}</td>\n",
       "      <td>201215</td>\n",
       "      <td>999</td>\n",
       "      <td>Valve</td>\n",
       "      <td>2000/11/1</td>\n",
       "      <td>0</td>\n",
       "      <td>Play the world's number 1 online action game. ...</td>\n",
       "      <td>{'1980s': 266.0, '1990's': 1191.0, '2.5D': Non...</td>\n",
       "      <td>game</td>\n",
       "      <td></td>\n",
       "    </tr>\n",
       "    <tr>\n",
       "      <th>1</th>\n",
       "      <td>1000000</td>\n",
       "      <td>[Single-player, Partial Controller Support, St...</td>\n",
       "      <td>0</td>\n",
       "      <td>IndigoBlue Game Studio</td>\n",
       "      <td>0</td>\n",
       "      <td>Action, Adventure, Indie</td>\n",
       "      <td>https://cdn.akamai.steamstatic.com/steam/apps/...</td>\n",
       "      <td>999</td>\n",
       "      <td>English, Korean, Simplified Chinese</td>\n",
       "      <td>ASCENXION</td>\n",
       "      <td>5</td>\n",
       "      <td>0 .. 20,000</td>\n",
       "      <td>{'linux': False, 'mac': False, 'windows': True}</td>\n",
       "      <td>27</td>\n",
       "      <td>999</td>\n",
       "      <td>PsychoFlux Entertainment</td>\n",
       "      <td>2021/05/14</td>\n",
       "      <td>0</td>\n",
       "      <td>ASCENXION is a 2D shoot 'em up game where you ...</td>\n",
       "      <td>{'1980s': None, '1990's': None, '2.5D': None, ...</td>\n",
       "      <td>game</td>\n",
       "      <td></td>\n",
       "    </tr>\n",
       "    <tr>\n",
       "      <th>2</th>\n",
       "      <td>1000010</td>\n",
       "      <td>[Single-player, Partial Controller Support, St...</td>\n",
       "      <td>99</td>\n",
       "      <td>NEXT Studios</td>\n",
       "      <td>70</td>\n",
       "      <td>Adventure, Indie, RPG, Strategy</td>\n",
       "      <td>https://cdn.akamai.steamstatic.com/steam/apps/...</td>\n",
       "      <td>1999</td>\n",
       "      <td>Simplified Chinese, English, Japanese, Traditi...</td>\n",
       "      <td>Crown Trick</td>\n",
       "      <td>646</td>\n",
       "      <td>200,000 .. 500,000</td>\n",
       "      <td>{'linux': False, 'mac': False, 'windows': True}</td>\n",
       "      <td>4032</td>\n",
       "      <td>599</td>\n",
       "      <td>Team17, NEXT Studios</td>\n",
       "      <td>2020/10/16</td>\n",
       "      <td>0</td>\n",
       "      <td>Enter a labyrinth that moves as you move, wher...</td>\n",
       "      <td>{'1980s': None, '1990's': None, '2.5D': None, ...</td>\n",
       "      <td>game</td>\n",
       "      <td></td>\n",
       "    </tr>\n",
       "  </tbody>\n",
       "</table>\n",
       "</div>"
      ]
     },
     "metadata": {
      "application/vnd.databricks.v1+output": {
       "addedWidgets": {},
       "arguments": {},
       "data": "<div>\n<style scoped>\n    .dataframe tbody tr th:only-of-type {\n        vertical-align: middle;\n    }\n\n    .dataframe tbody tr th {\n        vertical-align: top;\n    }\n\n    .dataframe thead th {\n        text-align: right;\n    }\n</style>\n<table border=\"1\" class=\"dataframe\">\n  <thead>\n    <tr style=\"text-align: right;\">\n      <th></th>\n      <th>appid</th>\n      <th>categories</th>\n      <th>ccu</th>\n      <th>developer</th>\n      <th>discount</th>\n      <th>genre</th>\n      <th>header_image</th>\n      <th>initialprice</th>\n      <th>languages</th>\n      <th>name</th>\n      <th>negative</th>\n      <th>owners</th>\n      <th>platforms</th>\n      <th>positive</th>\n      <th>price</th>\n      <th>publisher</th>\n      <th>release_date</th>\n      <th>required_age</th>\n      <th>short_description</th>\n      <th>tags</th>\n      <th>type</th>\n      <th>website</th>\n    </tr>\n  </thead>\n  <tbody>\n    <tr>\n      <th>0</th>\n      <td>10</td>\n      <td>[Multi-player, Valve Anti-Cheat enabled, Onlin...</td>\n      <td>13990</td>\n      <td>Valve</td>\n      <td>0</td>\n      <td>Action</td>\n      <td>https://cdn.akamai.steamstatic.com/steam/apps/...</td>\n      <td>999</td>\n      <td>English, French, German, Italian, Spanish - Sp...</td>\n      <td>Counter-Strike</td>\n      <td>5199</td>\n      <td>10,000,000 .. 20,000,000</td>\n      <td>{'linux': True, 'mac': True, 'windows': True}</td>\n      <td>201215</td>\n      <td>999</td>\n      <td>Valve</td>\n      <td>2000/11/1</td>\n      <td>0</td>\n      <td>Play the world's number 1 online action game. ...</td>\n      <td>{'1980s': 266.0, '1990's': 1191.0, '2.5D': Non...</td>\n      <td>game</td>\n      <td></td>\n    </tr>\n    <tr>\n      <th>1</th>\n      <td>1000000</td>\n      <td>[Single-player, Partial Controller Support, St...</td>\n      <td>0</td>\n      <td>IndigoBlue Game Studio</td>\n      <td>0</td>\n      <td>Action, Adventure, Indie</td>\n      <td>https://cdn.akamai.steamstatic.com/steam/apps/...</td>\n      <td>999</td>\n      <td>English, Korean, Simplified Chinese</td>\n      <td>ASCENXION</td>\n      <td>5</td>\n      <td>0 .. 20,000</td>\n      <td>{'linux': False, 'mac': False, 'windows': True}</td>\n      <td>27</td>\n      <td>999</td>\n      <td>PsychoFlux Entertainment</td>\n      <td>2021/05/14</td>\n      <td>0</td>\n      <td>ASCENXION is a 2D shoot 'em up game where you ...</td>\n      <td>{'1980s': None, '1990's': None, '2.5D': None, ...</td>\n      <td>game</td>\n      <td></td>\n    </tr>\n    <tr>\n      <th>2</th>\n      <td>1000010</td>\n      <td>[Single-player, Partial Controller Support, St...</td>\n      <td>99</td>\n      <td>NEXT Studios</td>\n      <td>70</td>\n      <td>Adventure, Indie, RPG, Strategy</td>\n      <td>https://cdn.akamai.steamstatic.com/steam/apps/...</td>\n      <td>1999</td>\n      <td>Simplified Chinese, English, Japanese, Traditi...</td>\n      <td>Crown Trick</td>\n      <td>646</td>\n      <td>200,000 .. 500,000</td>\n      <td>{'linux': False, 'mac': False, 'windows': True}</td>\n      <td>4032</td>\n      <td>599</td>\n      <td>Team17, NEXT Studios</td>\n      <td>2020/10/16</td>\n      <td>0</td>\n      <td>Enter a labyrinth that moves as you move, wher...</td>\n      <td>{'1980s': None, '1990's': None, '2.5D': None, ...</td>\n      <td>game</td>\n      <td></td>\n    </tr>\n  </tbody>\n</table>\n</div>",
       "datasetInfos": [],
       "metadata": {},
       "removedWidgets": [],
       "textData": null,
       "type": "htmlSandbox"
      }
     },
     "output_type": "display_data"
    }
   ],
   "source": [
    "dfk_data.head(3)"
   ]
  },
  {
   "cell_type": "code",
   "execution_count": 0,
   "metadata": {
    "application/vnd.databricks.v1+cell": {
     "cellMetadata": {
      "byteLimit": 2048000,
      "rowLimit": 10000
     },
     "inputWidgets": {},
     "nuid": "a1630761-bbfc-47fa-8d5e-e4b2807d2f5a",
     "showTitle": true,
     "title": "Quel éditeur a publié le plus de jeux sur Steam ?"
    }
   },
   "outputs": [
    {
     "output_type": "stream",
     "name": "stdout",
     "output_type": "stream",
     "text": [
      "La valeur maximale est 422 pour 'Big Fish Games'.\n"
     ]
    }
   ],
   "source": [
    "\n",
    "value_counts = dfk_data[\"publisher\"].value_counts()\n",
    "# Afficher la valeur maximale et son index (la valeur unique ayant le plus grand nombre d'occurrences)\n",
    "max_value = value_counts.max()\n",
    "max_index = value_counts.idxmax()\n",
    "\n",
    "print(f\"La valeur maximale est {max_value} pour '{max_index}'.\")"
   ]
  },
  {
   "cell_type": "code",
   "execution_count": 0,
   "metadata": {
    "application/vnd.databricks.v1+cell": {
     "cellMetadata": {
      "byteLimit": 2048000,
      "rowLimit": 10000
     },
     "inputWidgets": {},
     "nuid": "d991ee2a-ca68-4317-b158-2c9fcc49caac",
     "showTitle": true,
     "title": "Quels sont les jeux les mieux notés ?"
    }
   },
   "outputs": [
    {
     "output_type": "stream",
     "name": "stdout",
     "output_type": "stream",
     "text": [
      "Out[86]: name\nCounter-Strike: Global Offensive                                                   5943345\nDota 2                                                                             1534895\nGrand Theft Auto V                                                                 1229265\nPUBG: BATTLEGROUNDS                                                                1185361\nTerraria                                                                           1014711\nTom Clancy's Rainbow Six Siege                                                      942910\nGarry's Mod                                                                         861240\nTeam Fortress 2                                                                     846407\nRust                                                                                732513\nLeft 4 Dead 2                                                                       643836\nThe Witcher 3: Wild Hunt                                                            632627\nAmong Us                                                                            586302\nEuro Truck Simulator 2                                                              572368\nWallpaper Engine                                                                    561096\nPAYDAY 2                                                                            532013\nDead by Daylight                                                                    509637\nStardew Valley                                                                      497558\nRocket League                                                                       496499\nELDEN RING                                                                          490203\nARK: Survival Evolved                                                               481318\nPhasmophobia                                                                        475555\nUnturned                                                                            451671\nApex Legends                                                                        450786\nWarframe                                                                            448616\nCyberpunk 2077                                                                      427003\nDestiny 2                                                                           420074\nThe Forest                                                                          394258\nFall Guys: Ultimate Knockout                                                        382576\nValheim                                                                             346013\nDon't Starve Together                                                               340987\nDying Light                                                                         329253\nDARK SOULS III                                                                      317233\nMonster Hunter: World                                                               313338\nPortal 2                                                                            305671\nThe Elder Scrolls V: Skyrim                                                         295128\nPaladins                                                                            283612\nRed Dead Redemption 2                                                               274837\nWar Thunder                                                                         267782\nBrawlhalla                                                                          254203\nBorderlands 2                                                                       250447\nHollow Knight                                                                       246135\nFallout 4                                                                           238358\nDayZ                                                                                231166\nSea of Thieves                                                                      223678\nBloons TD 6                                                                         211017\nThe Binding of Isaac: Rebirth                                                       210521\nArma 3                                                                              210399\nThe Elder Scrolls V: Skyrim Special Edition                                         209001\nTomb Raider                                                                         208270\n7 Days to Die                                                                       207039\nRisk of Rain 2                                                                      206580\nCounter-Strike                                                                      201215\nHades                                                                               199960\nRaft                                                                                199556\nSubnautica                                                                          198374\nGeometry Dash                                                                       196792\nSid Meier’s Civilization VI                                                         196080\nCities: Skylines                                                                    194672\nNo Man's Sky                                                                        191377\nSekiro: Shadows Die Twice - GOTY Edition                                            191361\nHearts of Iron IV                                                                   188501\nHalo: The Master Chief Collection                                                   181246\nSid Meier's Civilization V                                                          180580\nUndertale                                                                           179493\nDoki Doki Literature Club!                                                          175778\nMount & Blade II: Bannerlord                                                        175612\nPath of Exile                                                                       168013\nNew World                                                                           163825\nDOOM                                                                                163070\nHuman: Fall Flat                                                                    162223\nFallout: New Vegas                                                                  161680\nLife is Strange - Episode 1                                                         151971\nFactorio                                                                            149859\nDeep Rock Galactic                                                                  148274\nStarbound                                                                           147018\nHalf-Life 2                                                                         146352\nDivinity: Original Sin 2 - Definitive Edition                                       146026\nDOOM Eternal                                                                        144233\nPeople Playground                                                                   142920\nMount & Blade: Warband                                                              142780\nRimWorld                                                                            142201\nBeamNG.drive                                                                        140305\nCounter-Strike: Source                                                              137721\nForza Horizon 4                                                                     136193\nSCP: Secret Laboratory                                                              133969\nVampire Survivors                                                                   130311\nLost Ark                                                                            128728\nTitanfall 2                                                                         128487\nVRChat                                                                              128209\nProject Zomboid                                                                     122006\nStellaris                                                                           121409\nBioShock Infinite                                                                   120585\nCall of Duty: Black Ops III                                                         119998\nHunt: Showdown                                                                      118693\nCuphead                                                                             117852\nSlay the Spire                                                                      116347\nAssassin's Creed Odyssey                                                            115326\nZ1 Battle Royale                                                                    115264\nInsurgency                                                                          113945\nResident Evil 2                                                                     112230\nPortal                                                                              111786\nDead Cells                                                                          110804\nAmerican Truck Simulator                                                            110301\nTotal War: WARHAMMER II                                                             109414\nRise of the Tomb Raider                                                             107109\nDarkest Dungeon                                                                     106766\n鬼谷八荒 Tale of Immortal                                                               106691\nHalo Infinite                                                                       106570\nSatisfactory                                                                        106304\nHelltaker                                                                           105952\nAge of Empires II: Definitive Edition                                               103749\nSquad                                                                               103301\ntheHunter: Call of the Wild                                                         102924\nThe Elder Scrolls Online                                                            102825\nFar Cry 5                                                                           102790\nKerbal Space Program                                                                102515\nNARAKA: BLADEPOINT                                                                  102248\nSpace Engineers                                                                     102228\nIt Takes Two                                                                         99119\nWorld of Tanks Blitz                                                                 97807\nKilling Floor 2                                                                      97695\nSplitgate: Arena Warfare                                                             97558\nSlime Rancher                                                                        97207\nEuropa Universalis IV                                                                96037\nDon't Starve                                                                         95114\nStick Fight: The Game                                                                94847\nHeroes & Generals                                                                    94141\nNieR:Automata                                                                        93733\nTotally Accurate Battle Simulator                                                    93141\nSTAR WARS Jedi: Fallen Order                                                         92329\nAge of Empires II (2013)                                                             91414\nCastle Crashers                                                                      90812\nOri and the Will of the Wisps                                                        90608\nBorderlands 3                                                                        90115\nASTRONEER                                                                            89536\nBattlefield V                                                                        89088\nGrand Theft Auto IV: The Complete Edition                                            88738\nGrand Theft Auto IV: Complete Edition                                                88724\nWorld of Warships                                                                    88427\nOutlast                                                                              87927\nPlants vs. Zombies GOTY Edition                                                      87345\nInsurgency: Sandstorm                                                                86811\nJust Cause 3                                                                         86425\nOxygen Not Included                                                                  86247\nRobocraft                                                                            86138\nScrap Mechanic                                                                       85751\nThe Long Dark                                                                        84346\nFOR HONOR                                                                            84062\nMORDHAU                                                                              83985\nFIFA 22                                                                              83915\nBlack Mesa                                                                           83687\nDevil May Cry 5                                                                      83488\nKingdom Come: Deliverance                                                            83228\nSMITE                                                                                83137\nStray                                                                                83023\nThis War of Mine                                                                     82696\nDying Light 2 Stay Human                                                             82137\nForza Horizon 5                                                                      81044\nMirror                                                                               80419\nResident Evil Village                                                                78503\nBatman: Arkham Knight                                                                78321\nWarhammer: Vermintide 2                                                              78152\nLittle Nightmares                                                                    78152\nFar Cry 3                                                                            77934\nInscryption                                                                          76786\nFrostpunk                                                                            76558\nCompany of Heroes 2                                                                  76015\nCrusader Kings III                                                                   75997\nHalf-Life                                                                            75882\nHotline Miami                                                                        75457\nDEATH STRANDING                                                                      75385\nGunfire Reborn                                                                       74751\nRing of Elysium                                                                      74521\nBattlefield 1                                                                        74496\nAim Lab                                                                              74114\nHalf-Life: Alyx                                                                      73942\nGrim Dawn                                                                            73918\nDota Underlords                                                                      73650\nPOSTAL 2                                                                             72120\nDARK SOULS II: Scholar of the First Sin                                              72020\nMETAL GEAR SOLID V: THE PHANTOM PAIN                                                 72011\nAssassin's Creed Origins                                                             71930\nHorizon Zero Dawn Complete Edition                                                   71779\nHell Let Loose                                                                       71699\nMultiVersus                                                                          71223\nAssetto Corsa                                                                        71157\nTrove                                                                                71138\nMiddle-earth: Shadow of Mordor                                                       71066\nMiddle-earth: Shadow of War                                                          70837\nGrand Theft Auto: San Andreas                                                        70755\nMetro Exodus                                                                         70561\nMuse Dash                                                                            70262\nDARK SOULS: Prepare To Die Edition                                                   70134\nXCOM 2                                                                               69776\nDishonored                                                                           68407\nThe Witcher 2: Assassins of Kings Enhanced Edition                                   68338\nEnter the Gungeon                                                                    67064\nSaints Row IV                                                                        66936\nReady or Not                                                                         66686\nDeceit                                                                               66646\nConan Exiles                                                                         66642\nTotally Accurate Battlegrounds                                                       65723\nTotal War: THREE KINGDOMS                                                            65543\nElite Dangerous                                                                      65480\nSubnautica: Below Zero                                                               64458\nBattleBlock Theater                                                                  64412\nDyson Sphere Program                                                                 64347\nNARUTO SHIPPUDEN: Ultimate Ninja STORM 4                                             64262\nHITMAN 2                                                                             63861\nSaints Row: The Third                                                                63326\nFTL: Faster Than Light                                                               63181\nDARK SOULS: REMASTERED                                                               63103\nBeat Saber                                                                           62789\nThe Sims 4                                                                           62629\nHouse Flipper                                                                        62092\nThe Witcher: Enhanced Edition Director's Cut                                         62056\nCrusader Kings II                                                                    61860\nTo the Moon                                                                          61295\nResident Evil 7 Biohazard                                                            60998\nTotal War: ROME II - Emperor Edition                                                 60981\nFarming Simulator 19                                                                 60886\nNeed for Speed Heat                                                                  60783\nKilling Floor                                                                        60670\nTEKKEN 7                                                                             60668\nDisco Elysium - The Final Cut                                                        60591\nBlack Squad                                                                          60547\nGod of War                                                                           60250\nTom Clancy’s The Division                                                            60184\nMad Max                                                                              59840\nMortal Kombat 11                                                                     59631\nNo More Room in Hell                                                                 59502\nDetroit: Become Human                                                                59332\nCeleste                                                                              58973\nMetro 2033 Redux                                                                     58862\nEverlasting Summer                                                                   58576\nSCUM                                                                                 58327\nPrison Architect                                                                     57563\nKenshi                                                                               57218\nThe Walking Dead                                                                     57070\nPersona 4 Golden                                                                     56662\nGRIS                                                                                 56026\nTom Clancy's Ghost Recon Wildlands                                                   55946\nFallout 76: The Pitt                                                                 55665\nPlanet Zoo                                                                           55662\nPlanetSide 2                                                                         55540\nFriday the 13th: The Game                                                            54780\nChivalry: Medieval Warfare                                                           54662\nGoat Simulator                                                                       54622\nFINAL FANTASY XIV Online                                                             54066\nMinion Masters                                                                       54048\nWarface                                                                              53531\nMETAL GEAR RISING: REVENGEANCE                                                       53301\nShadow of the Tomb Raider: Definitive Edition                                        52844\nPapers, Please                                                                       52631\nOri and the Blind Forest: Definitive Edition                                         52496\nStumble Guys                                                                         52463\nClicker Heroes                                                                       52275\nRavenfield                                                                           52181\nThe Binding of Isaac                                                                 52160\nTabletop Simulator                                                                   52072\nFirewatch                                                                            51946\nPlanet Coaster                                                                       51854\nYakuza 0                                                                             51331\nDRAGON BALL FighterZ                                                                 50581\nThe Crew 2                                                                           50384\nSouth Park: The Stick of Truth                                                       50149\nTeardown                                                                             49958\nBattlerite                                                                           49353\nKatana ZERO                                                                          49239\nWatch_Dogs 2                                                                         48915\nCarX Drift Racing Online                                                             48787\nTotal War: SHOGUN 2                                                                  48602\nHellblade: Senua's Sacrifice                                                         48436\nBroforce                                                                             48310\nMetro: Last Light Redux                                                              48101\nAssassin’s Creed IV Black Flag                                                       48077\nFallout Shelter                                                                      48035\nResident Evil 3                                                                      47757\nXCOM: Enemy Unknown                                                                  47731\nGolf With Your Friends                                                               47692\nResident Evil 4                                                                      47560\nThe Isle                                                                             47213\nDirty Bomb                                                                           47126\nBaldur's Gate 3                                                                      46997\nBatman: Arkham City - Game of the Year Edition                                       46975\nAdVenture Capitalist                                                                 46911\nOri and the Blind Forest                                                             46877\nJust Survive                                                                         46628\nDEVOUR                                                                               46436\nOMORI                                                                                46239\nMafia II (Classic)                                                                   46130\nAlien: Isolation                                                                     45966\nSpec Ops: The Line                                                                   45663\nNoita                                                                                45622\nSleeping Dogs: Definitive Edition                                                    45618\nBlack Desert                                                                         45588\nStar Wars: Battlefront 2 (Classic, 2005)                                             45517\nCall of Duty: Modern Warfare 2 (2009)                                                45374\nMONSTER HUNTER RISE                                                                  45057\nBattlefield 2042                                                                     44983\nDishonored 2                                                                         44680\nBatman: Arkham Asylum Game of the Year Edition                                       44597\nV Rising                                                                             44544\nSoundpad                                                                             44518\nGreen Hell                                                                           44453\nA Plague Tale: Innocence                                                             44348\nJust Cause 2                                                                         44164\nGetting Over It with Bennett Foddy                                                   44158\nRising Storm 2: Vietnam                                                              43984\nA Hat in Time                                                                        43958\nMy Summer Car                                                                        43712\nEA SPORTS FIFA 21                                                                    43435\nWolfenstein: The New Order                                                           43418\nSPORE                                                                                43290\nNorthgard                                                                            43117\nJurassic World Evolution                                                             43078\nA Dance of Fire and Ice                                                              42862\nPlague Inc: Evolved                                                                  42776\nPC Building Simulator                                                                42663\nBesiege                                                                              42479\nHotline Miami 2: Wrong Number                                                        41962\nSTAR WARS: The Old Republic                                                          41948\nUltimate Custom Night                                                                41824\nAlbion Online                                                                        41790\nMafia: Definitive Edition                                                            41730\nNARUTO TO BORUTO: SHINOBI STRIKER                                                    41707\nRed Dead Online                                                                      41587\nLeft 4 Dead                                                                          41585\nRealm Royale                                                                         41132\nBattlefield 4                                                                        41014\nDays Gone                                                                            40938\nGhostrunner                                                                          40568\nRec Room                                                                             40539\nLIMBO                                                                                40192\nULTRAKILL                                                                            40050\nCar Mechanic Simulator 2018                                                          40044\nCrossout                                                                             39835\nMortal Kombat X                                                                      39630\nSniper Elite 4                                                                       39501\nINSIDE                                                                               39432\nThe Stanley Parable                                                                  39334\nCall of Duty: World at War                                                           39281\nOuter Wilds                                                                          39238\nTotal War: WARHAMMER                                                                 38985\nMarvel’s Spider-Man Remastered                                                       38965\nOvercooked! 2                                                                        38963\nBusiness Tour - Board Game with Online Multiplayer                                   38509\nTotal War: WARHAMMER III                                                             38484\nAssassin's Creed Unity                                                               38482\nTorchlight II                                                                        38385\nCODE VEIN                                                                            38221\nOUTRIDERS                                                                            38171\n太吾绘卷 The Scroll Of Taiwu                                                             37806\nPrey                                                                                 37204\nBrothers - A Tale of Two Sons                                                        37107\nMax Payne 3                                                                          37029\nGrounded                                                                             36953\nBlender                                                                              36892\n古剑奇谭三(Gujian3)                                                                       36816\nF1 2020                                                                              36801\nCry of Fear                                                                          36724\nThe Elder Scrolls IV: Oblivion Game of the Year Edition                              36644\nThe Elder Scrolls IV: Oblivion Game of the Year Edition Deluxe                       36644\nBatman: Arkham Origins                                                               36270\nCookie Clicker                                                                       36122\nHitman: Absolution                                                                   36095\nSTAR WARS Battlefront II                                                             36039\nFar Cry 4                                                                            35946\nAge of Empires IV: Anniversary Edition                                               35911\nRemnant: From the Ashes                                                              35856\nPAYDAY The Heist                                                                     35812\nRealm of the Mad God Exalt                                                           35690\nMy Time At Portia                                                                    35666\nGTFO                                                                                 35544\nPummel Party                                                                         35543\nFINAL FANTASY XV WINDOWS EDITION                                                     35525\nWolcen: Lords of Mayhem                                                              35435\nBioShock Remastered                                                                  35292\nDARK SOULS II                                                                        35291\nBanished                                                                             35024\nGang Beasts                                                                          34926\nBlade and Sorcery                                                                    34904\nAssassin's Creed 2                                                                   34859\nEternal Return: Black Survival                                                       34773\nCall of Duty: Modern Warfare II                                                      34726\nThey Are Billions                                                                    34658\nLoadout                                                                              34581\nSkul: The Hero Slayer                                                                34494\nOutlast 2                                                                            34388\nA Way Out                                                                            34191\nGame Dev Tycoon                                                                      34126\nAlan Wake                                                                            34015\nCall of Duty: Black Ops II                                                           34011\nWorld of Tanks                                                                       33919\nPoppy Playtime                                                                       33903\nFishing Planet                                                                       33731\nBastion                                                                              33708\nEvolve Stage 2                                                                       33694\nDiRT Rally                                                                           33548\nDRAGON BALL Z: KAKAROT                                                               33523\nFive Nights at Freddy's: Security Breach                                             33496\nSteamVR                                                                              33379\nRed Orchestra 2: Heroes of Stalingrad with Rising Storm                              33299\nLife is Strange: Before the Storm                                                    33251\nFarming Simulator 22                                                                 33215\nThe Henry Stickmin Collection                                                        32913\nDuck Game                                                                            32694\nMen of War: Assault Squad 2                                                          32617\nBarotrauma                                                                           32350\nDRAGON BALL XENOVERSE 2                                                              32299\nPavlov VR                                                                            32206\nState of Decay 2: Juggernaut Edition                                                 32200\nFive Nights at Freddy's                                                              32089\nYu-Gi-Oh! Duel Links                                                                 32036\nMicrosoft Flight Simulator Game of the Year Edition                                  31926\nSOMA                                                                                 31888\nResident Evil 6                                                                      31665\nSpeedRunners                                                                         31580\nShadow Tactics: Blades of the Shogun                                                 31192\nSuper Animal Royale                                                                  31189\nTown of Salem                                                                        31050\nFistful of Frags                                                                     30986\nVerdun                                                                               30953\nUNO                                                                                  30917\nGrimm                                                                                30911\nBloodstained: Ritual of the Night                                                    30773\nFallout 3: Game of the Year Edition                                                  30657\nOneShot                                                                              30623\nMirror 2: Project X                                                                  30557\nNBA 2K20                                                                             30542\nBattlefield: Bad Company 2                                                           30493\nBorderlands: The Pre-Sequel                                                          30440\nS.T.A.L.K.E.R.: Shadow of Chernobyl                                                  30213\nHITMAN                                                                               29985\nHalf-Life 2: Episode Two                                                             29977\nPacify                                                                               29957\nCult of the Lamb                                                                     29893\nGUILTY GEAR -STRIVE-                                                                 29860\nCRSED: F.O.A.D.                                                                      29753\nTemtem                                                                               29743\nF1 2021                                                                              29500\nBONEWORKS                                                                            29386\nControl Ultimate Edition                                                             29384\nVA-11 Hall-A: Cyberpunk Bartender Action                                             29369\nForager                                                                              29043\nHand Simulator                                                                       29035\nStormworks: Build and Rescue                                                         29003\nSUPERHOT                                                                             28959\nSource Filmmaker                                                                     28871\nSuper Meat Boy                                                                       28851\nShellShock Live                                                                      28834\nMass Effect Legendary Edition                                                        28834\nBright Memory: Infinite                                                              28787\nCall of Juarez: Gunslinger                                                           28770\nBright Memory                                                                        28750\nMirror's Edge                                                                        28731\nSTAR WARS Empire at War - Gold Pack                                                  28719\nNioh 2 – The Complete Edition                                                        28672\nUltimate Chicken Horse                                                               28660\nLEGO Star Wars: The Skywalker Saga                                                   28489\nAmnesia: The Dark Descent                                                            28320\nCall of Duty: Modern Warfare 3                                                       28298\nDepth                                                                                28286\nFirework                                                                             28285\nCall of Duty: Black Ops                                                              28205\nFootball Manager 2020                                                                28186\nThe Wolf Among Us                                                                    28169\nStranded Deep                                                                        28163\nBlood and Bacon                                                                      28124\nRyse: Son of Rome                                                                    27898\nAge of Empires III (2007)                                                            27889\nDeus Ex: Mankind Divided                                                             27876\nLoop Hero                                                                            27750\nWolfenstein II: The New Colossus                                                     27630\nDragon's Dogma: Dark Arisen                                                          27601\nWreckfest                                                                            27524\nBorderlands Game of the Year                                                         27519\neFootball PES 2021 SEASON UPDATE                                                     27411\nWhat Remains of Edith Finch                                                          27345\nNeverwinter                                                                          27196\nEmily is Away                                                                        27194\nTransistor                                                                           27179\nPowerWash Simulator                                                                  27082\nResident Evil 5                                                                      26977\nCounter-Strike Nexon: Studio                                                         26724\nRisk of Rain                                                                         26682\nTwo Point Hospital                                                                   26567\nBioShock                                                                             26543\nTotal War: EMPIRE – Definitive Edition                                               26493\nBrick Rigs                                                                           26418\nHuniePop                                                                             26390\nTitan Quest Anniversary Edition                                                      26381\nBack 4 Blood                                                                         26343\nFor The King                                                                         26270\nDiRT Rally 2.0                                                                       25838\nStreet Fighter V                                                                     25807\nA Story About My Uncle                                                               25706\nHero Siege                                                                           25699\nShakes and Fidget                                                                    25639\nMagicka                                                                              25383\nACE COMBAT 7: SKIES UNKNOWN                                                          25371\nMedieval Dynasty                                                                     25348\nThe Walking Dead: Season Two                                                         25317\nQuake Champions                                                                      25222\nTotal War: MEDIEVAL II – Definitive Edition                                          25187\nAge of Mythology: Extended Edition                                                   25091\nSkullgirls 2nd Encore                                                                24858\nMafia III: Definitive Edition                                                        24855\nThe Talos Principle                                                                  24776\nGrand Theft Auto: Vice City                                                          24724\nRivals of Aether                                                                     24699\nWatch_Dogs                                                                           24685\nSTAR WARS - Knights of the Old Republic                                              24613\nUnheard                                                                              24612\nNEKOPARA Vol. 1                                                                      24610\nWorld War 3                                                                          24548\nGraveyard Keeper                                                                     24490\nKovaaK's                                                                             24420\nNioh: Complete Edition                                                               24331\nThe Sims 3                                                                           24244\nAge of History II                                                                    24143\nCreativerse                                                                          24010\nGRID 2                                                                               23997\nSven Co-op                                                                           23995\nTotal War: ATTILA                                                                    23983\nL.A. Noire                                                                           23952\nBloons TD Battles                                                                    23853\nDread Hunger                                                                         23825\nAge of Empires III: Definitive Edition                                               23776\nLife is Strange 2                                                                    23714\nCommand & Conquer Remastered Collection                                              23708\nMy Friend Pedro                                                                      23624\nRISK: Global Domination                                                              23617\nHurtworld                                                                            23539\nBlasphemous                                                                          23424\nMudRunner                                                                            23347\nTales of Arise                                                                       23221\nDraw & Guess                                                                         23161\nDanganronpa: Trigger Happy Havoc                                                     23155\nEmpyrion - Galactic Survival                                                         23110\nAPB Reloaded                                                                         22853\nDmC: Devil May Cry                                                                   22793\nDeus Ex: Human Revolution - Director's Cut                                           22772\nSpiritfarer: Farewell Edition                                                        22741\nSuper Hexagon                                                                        22658\nPath Of Wuxia                                                                        22626\nAwesomenauts - the 2D moba                                                           22405\nShadow Warrior                                                                       22389\nPathfinder: Kingmaker - Enhanced Plus Edition                                        22358\nSerious Sam 3: BFE                                                                   22305\nMarvel's Guardians of the Galaxy                                                     22240\nBATTLETECH                                                                           22238\nThe Escapists 2                                                                      22231\nCall of Duty: WWII                                                                   22154\nS.T.A.L.K.E.R.: Call of Pripyat                                                      22137\nLayers of Fear (2016)                                                                22027\nTricolour Lovestory                                                                  21959\nFootball Manager 2021                                                                21934\n嗜血印 Bloody Spell                                                                     21933\nORION: Prelude                                                                       21766\nSniper Elite V2                                                                      21751\n100% Orange Juice                                                                    21666\nKurtzPel                                                                             21564\nJourney                                                                              21543\nFoxhole                                                                              21512\nLittle Nightmares II                                                                 21425\nEVE Online                                                                           21375\nCrypt of the NecroDancer                                                             21357\nHalf-Life 2: Episode One                                                             21355\nThe Evil Within 2                                                                    21323\nDeadside                                                                             21224\nDCS World Steam Edition                                                              21193\nFar Cry Primal                                                                       21170\nDead Space (2008)                                                                    21163\nKingdoms and Castles                                                                 21115\nABZU                                                                                 21104\nMiscreated                                                                           21089\nThe Room                                                                             21072\nThe Cycle                                                                            20997\nValiant Hearts: The Great War / Soldats Inconnus : Mémoires de la Grande Guerre      20996\ntheHunter Classic                                                                    20949\nAssetto Corsa Competizione                                                           20883\nHELLDIVERS Dive Harder Edition                                                       20875\nRussian Fishing 4                                                                    20774\nFINAL FANTASY VII                                                                    20754\nChinese Parents                                                                      20733\nNBA 2K22                                                                             20712\nGWENT: The Witcher Card Game                                                         20610\nFreddy Fazbear's Pizzeria Simulator                                                  20457\nThe Plan                                                                             20402\nDivinity: Original Sin - Enhanced Edition                                            20312\nBayonetta                                                                            20303\nBeholder                                                                             20285\nBully: Scholarship Edition                                                           20245\nTransformice                                                                         20225\nHacknet                                                                              20212\nICEY                                                                                 20193\nLobotomy Corporation | Monster Management Simulation                                 20176\nDanganronpa 2: Goodbye Despair                                                       20125\nKARDS - The WWII Card Game                                                           20114\nFarming Simulator 17                                                                 20083\nThe Evil Within                                                                      20057\nSonic Mania                                                                          19975\nArma 2: Operation Arrowhead                                                          19951\nWho's Your Daddy?!                                                                   19939\nCrush Crush                                                                          19861\nThe Elder Scrolls III: Morrowind Game of the Year Edition                            19725\nBlackwake                                                                            19702\nTrine 2: Complete Story                                                              19639\nCounter-Strike: Condition Zero                                                       19629\nMicrosoft Flight Simulator X: Steam Edition                                          19617\nQuantum Break                                                                        19555\nATLAS                                                                                19417\nSurviving Mars                                                                       19407\nShadow Warrior 2                                                                     19390\nAlien Swarm                                                                          19311\nSniper Elite 3                                                                       19293\nClone Drone in the Danger Zone                                                       19267\nPaint the Town Red                                                                   19236\nSTAR WARS Knights of the Old Republic II - The Sith Lords                            19164\nMove or Die                                                                          19125\nGorilla Tag                                                                          19107\nTropico 6                                                                            19089\nGeneration Zero                                                                      19048\nSpiral Knights                                                                       19034\nZero Hour                                                                            18961\nPathfinder: Wrath of the Righteous - Enhanced Edition                                18953\nWarhammer 40,000: Space Marine - Anniversary Edition                                 18944\nLost Castle / 失落城堡                                                                   18911\nSteep                                                                                18906\nENDER LILIES: Quietus of the Knights                                                 18879\nHoldfast: Nations At War                                                             18837\nPillars of Eternity                                                                  18791\nWe Were Here                                                                         18755\nLEGO Star Wars - The Complete Saga                                                   18707\neFootball  PES 2020                                                                  18566\nDead Space 2                                                                         18447\nRocksmith 2014 Edition - Remastered                                                  18369\nMarvel's Avengers                                                                    18109\nFar Cry New Dawn                                                                     18096\nSonic Generations Collection                                                         18092\nTotal War: NAPOLEON – Definitive Edition                                             18080\nSuperliminal                                                                         18064\nDay of Infamy                                                                        18043\nAssassin's Creed Syndicate                                                           18013\nTrackMania Nations Forever                                                           17977\nGolf It!                                                                             17941\nFootball Manager 2022                                                                17931\nThe Outer Worlds                                                                     17891\nDEATHLOOP                                                                            17808\nKingdom: Classic                                                                     17682\nUniverse Sandbox                                                                     17644\nInfestation: The New Z                                                               17632\nCall of Duty 4: Modern Warfare                                                       17626\nResident Evil Revelations 2                                                          17528\nBendy and the Ink Machine                                                            17496\nAmazing Cultivation Simulator                                                        17429\nReturn of the Obra Dinn                                                              17369\nThere Is No Game: Wrong Dimension                                                    17334\n暖雪 Warm Snow                                                                         17308\nCall of Duty: Ghosts                                                                 17294\nYakuza: Like a Dragon                                                                17278\nDJMAX RESPECT V                                                                      17252\nThe Test                                                                             17222\nFarm Together                                                                        17160\nThe Expendabros                                                                      17157\nLEGO Marvel Super Heroes                                                             17091\nStoneshard                                                                           16981\nMagic Duels                                                                          16981\nLeaf Blower Revolution - Idle Game                                                   16940\nDragon Age: Origins - Ultimate Edition                                               16934\nOrcs Must Die! 2                                                                     16912\nNieR Replicant ver.1.22474487139...                                                  16864\nDoki Doki Literature Club Plus!                                                      16862\nTownscaper                                                                           16859\nDust: An Elysian Tail                                                                16842\nTrain Simulator Classic                                                              16825\nDorfromantik                                                                         16771\nDay of Defeat: Source                                                                16747\nPortal Knights                                                                       16698\nRuneScape                                                                            16696\nICARUS                                                                               16690\nAlien Swarm: Reactive Drop                                                           16627\nTerraTech                                                                            16617\nNeon Abyss                                                                           16604\nRogue Legacy                                                                         16581\nCARRION                                                                              16580\nResident Evil                                                                        16569\nDUSK                                                                                 16546\nIron Snout                                                                           16515\nENDLESS Space 2                                                                      16499\nSands of Salzaar                                                                     16386\nMutant Year Zero: Road to Eden                                                       16379\nTransport Fever 2                                                                    16274\nThe Darkness II                                                                      16250\nJUMP FORCE                                                                           16230\nNBA 2K21                                                                             16228\nPhoenix Wright: Ace Attorney Trilogy                                                 16214\nBaba Is You                                                                          16162\nStreets of Rogue                                                                     16111\nNeed For Speed: Hot Pursuit                                                          16104\nNotes of Soul                                                                        16082\nKrunker                                                                              16059\nMonster Train                                                                        16056\nDungeons 3                                                                           15993\nHot Dogs, Horseshoes & Hand Grenades                                                 15974\nThe Beginner's Guide                                                                 15972\nNEKOPARA Vol. 0                                                                      15970\nWarhammer: End Times - Vermintide                                                    15939\nRhythm Doctor                                                                        15908\nRefunct                                                                              15898\nSTAR WARS: Squadrons                                                                 15893\nBrutal Legend                                                                        15883\nMortal Kombat Komplete Edition                                                       15869\nThief Simulator                                                                      15868\nSleeping Dogs                                                                        15808\nThief                                                                                15785\nTales from the Borderlands                                                           15715\nOutward Definitive Edition                                                           15634\nOne Finger Death Punch                                                               15628\nViscera Cleanup Detail                                                               15620\nBattle Brothers                                                                      15593\nNuclear Throne                                                                       15494\nDungeon Defenders II                                                                 15485\nBLOCKADE 3D                                                                          15462\nTower Unite                                                                          15368\nSalt and Sanctuary                                                                   15321\nSouth Park: The Fractured But Whole                                                  15294\nMark of the Ninja                                                                    15248\nBless Unleashed                                                                      15225\nInto the Breach                                                                      15211\nCar Mechanic Simulator 2021                                                          15187\nJust Shapes & Beats                                                                  15183\nWizard of Legend                                                                     15140\nSkater XL - The Ultimate Skateboarding Game                                          15134\nInjustice: Gods Among Us Ultimate Edition                                            15098\nDC Universe Online                                                                   15085\nSpyro Reignited Trilogy                                                              15057\nDarwin Project                                                                       15033\nVictoria II                                                                          15023\nAntichamber                                                                          14924\nState of Decay                                                                       14921\nMass Effect (2007)                                                                   14901\nHalf-Life: Opposing Force                                                            14887\nCall to Arms                                                                         14847\nAliens vs. Predator                                                                  14840\nProject Winter                                                                       14823\nThe Room Two                                                                         14823\nDRAGON BALL XENOVERSE                                                                14820\nCity Car Driving                                                                     14820\nDead Frontier 2                                                                      14811\nLast Oasis                                                                           14790\nFive Nights at Freddy's 2                                                            14774\nCreative Destruction                                                                 14757\nXCOM: Chimera Squad                                                                  14723\nPhantasy Star Online 2                                                               14721\nDungeon Defenders                                                                    14704\nLibrary Of Ruina                                                                     14686\nInside the Backrooms                                                                 14672\nNEEDY STREAMER OVERLOAD                                                              14670\nWargame: Red Dragon                                                                  14650\nJust Cause 4 Reloaded                                                                14635\nWorld of Guns: Gun Disassembly                                                       14613\nPICO PARK                                                                            14601\nHyper Light Drifter                                                                  14596\nSpelunky 2                                                                           14529\nUnpacking                                                                            14468\nMass Effect 2 (2010)                                                                 14465\nMass Effect 2 Digital Deluxe Edition                                                 14465\nAssassin’s Creed Brotherhood                                                         14449\nPost Scriptum                                                                        14447\nTales of Berseria                                                                    14382\nFallout: A Post Nuclear Role Playing Game                                            14371\nCore Keeper                                                                          14353\nThe Stanley Parable: Ultra Deluxe                                                    14304\nSonic & All-Stars Racing Transformed Collection                                      14294\nNeed for Speed Payback                                                               14293\nWolfenstein: The Old Blood                                                           14267\nBorderlands Game of the Year Enhanced                                                14245\nCell to Singularity - Evolution Never Ends                                           14212\nPsychonauts                                                                          14152\nWorldBox - God Simulator                                                             14152\nThe Planet Crafter                                                                   14125\nENDLESS Legend                                                                       14117\nFallout 3                                                                            14096\nHUMANKIND                                                                            14092\nProject CARS 2                                                                       14045\nSurvarium                                                                            14006\nWar Selection                                                                        13990\nTom Clancy’s Splinter Cell Blacklist                                                 13989\nTimberborn                                                                           13968\nMini Motorways                                                                       13942\nSpelunky                                                                             13931\nMountain                                                                             13918\nSword Art Online: Fatal Bullet                                                       13911\nShovel Knight: Treasure Trove                                                        13909\nFinding Paradise                                                                     13881\nThe Escapists                                                                        13850\nJust Cause 2: Multiplayer Mod                                                        13827\nHow to Survive                                                                       13823\nStronghold Crusader HD                                                               13810\nRome: Total War - Collection                                                         13807\nToribash                                                                             13781\nS.T.A.L.K.E.R.: Clear Sky                                                            13657\nSaints Row 2                                                                         13648\nSnowRunner                                                                           13646\nX-Plane 11                                                                           13601\nISLANDERS                                                                            13597\nSonic Adventure 2                                                                    13577\nPoly Bridge                                                                          13568\nMilk inside a bag of milk inside a bag of milk                                       13563\nFINAL FANTASY X/X-2 HD Remaster                                                      13561\nCodename CURE                                                                        13545\nSins of a Solar Empire: Rebellion                                                    13508\nThe Long Drive                                                                       13505\nStreets of Rage 4                                                                    13499\nGas Station Simulator                                                                13496\nCall of Duty: Advanced Warfare - Gold Edition                                        13493\nThe Lord of the Rings Online                                                         13479\nPillars of Eternity II: Deadfire                                                     13474\nThe Walking Dead: The Final Season                                                   13464\nInjustice 2                                                                          13438\nVampyr                                                                               13434\nStar Trek Online                                                                     13409\nWitch It                                                                             13407\nChivalry 2                                                                           13390\nIronsight                                                                            13381\nNight in the Woods                                                                   13376\n20 Minutes Till Dawn                                                                 13357\nZombie Army Trilogy                                                                  13347\nBioShock 2 Remastered                                                                13345\nGears 5                                                                              13336\nWasteland 3                                                                          13319\nDanganronpa V3: Killing Harmony                                                      13312\nHeroes of Might & Magic III - HD Edition                                             13290\nAliens: Fireteam Elite                                                               13242\nDarkwood                                                                             13238\nGuns of Icarus Online                                                                13214\nYakuza Kiwami                                                                        13146\nUnrailed!                                                                            13115\nTrine Enchanted Edition                                                              13099\nDead Island Definitive Edition                                                       13034\nFar Cry 3 - Blood Dragon                                                             13028\nWildermyth                                                                           13009\nRaceRoom Racing Experience                                                           12997\nCar Mechanic Simulator 2015                                                          12973\nImperator: Rome                                                                      12967\nGone Home                                                                            12961\nSurgeon Simulator                                                                    12939\nELEX                                                                                 12938\nmissed messages.                                                                     12932\nChildren of Morta                                                                    12914\nSTEINS;GATE                                                                          12901\nDOOM (1993)                                                                          12892\nSecret Neighbor: Hello Neighbor Multiplayer                                          12849\nCall of Duty: Infinite Warfare                                                       12834\nCraftopia                                                                            12830\n911 Operator                                                                         12824\nThe Banner Saga                                                                      12820\nMurdered: Soul Suspect                                                               12795\nHydroneer                                                                            12760\nWarhammer 40,000: Dawn of War - Soulstorm                                            12755\nPotion Craft: Alchemist Simulator                                                    12723\nFarming Simulator 15                                                                 12720\nTree of Savior (English Ver.)                                                        12711\nHardspace: Shipbreaker                                                               12699\nBeyond: Two Souls                                                                    12695\nROUNDS                                                                               12642\nCrash Bandicoot N. Sane Trilogy                                                      12621\nSTAR WARS Republic Commando                                                          12620\nPony Island                                                                          12609\nPOLYGON: Multiplayer Shooter                                                         12608\nFEZ                                                                                  12606\nJurassic World Evolution 2                                                           12574\nOrwell: Keeping an Eye On You                                                        12554\nDino D-Day                                                                           12553\nGreedFall                                                                            12549\nDawn of Man                                                                          12538\nTrailmakers                                                                          12530\nFlatOut 2                                                                            12524\nMini Metro                                                                           12492\nSanctum 2                                                                            12490\nQuake Live                                                                           12479\nSid Meier's Civilization: Beyond Earth                                               12477\nSally Face - Episode One                                                             12458\nSakura Clicker                                                                       12456\nBRAIN / OUT                                                                          12451\nBlacklight: Retribution                                                              12447\nRAGE                                                                                 12391\nThe Witness                                                                          12390\nThe Ascent                                                                           12372\nForts                                                                                12321\nCooking Simulator                                                                    12316\nSpooky's Jump Scare Mansion                                                          12298\nCompany of Heroes                                                                    12270\nSniper: Ghost Warrior 2                                                              12255\nDemon Slayer -Kimetsu no Yaiba- The Hinokami Chronicles                              12235\nCrossCode                                                                            12203\nThronebreaker: The Witcher Tales                                                     12178\nGorogoa                                                                              12157\nDiRT 4                                                                               12155\nAssassin's Creed: Director's Cut Edition                                             12145\nLISA: The Painful                                                                    12089\nAce of Spades: Battle Builder                                                        12070\nBlock N Load                                                                         12061\nSpongeBob SquarePants: Battle for Bikini Bottom - Rehydrated                         12036\nRUNNING WITH RIFLES                                                                  12011\nArmello                                                                              11947\nFran Bow                                                                             11930\nGunpoint                                                                             11915\nSolasta: Crown of the Magister                                                       11897\nMETAL GEAR SOLID V: GROUND ZEROES                                                    11886\nLast Epoch                                                                           11883\nNEKOPARA Vol. 2                                                                      11852\nRemember Me                                                                          11840\nMindustry                                                                            11834\nAseprite                                                                             11823\nMoonlighter                                                                          11795\nDescenders                                                                           11783\nDrug Dealer Simulator                                                                11769\nDark Deception                                                                       11769\nBIGFOOT                                                                              11722\nThe Awesome Adventures of Captain Spirit                                             11698\nOvercooked                                                                           11694\nAction Taimanin                                                                      11675\nGriftlands                                                                           11657\n港詭實錄ParanormalHK                                                                     11655\nA Short Hike                                                                         11645\nClustertruck                                                                         11606\nDead Rising 3 Apocalypse Edition                                                     11595\nBad Rats: the Rats' Revenge                                                          11594\nArtifact                                                                             11562\nCraft The World                                                                      11556\nUntitled Goose Game                                                                  11549\nChild of Light                                                                       11545\nTribes of Midgard                                                                    11513\nBioShock 2                                                                           11509\nWarhammer 40,000: Inquisitor - Martyr                                                11488\nGarfield Kart                                                                        11476\nGoing Medieval                                                                       11462\nEternal Senia                                                                        11450\nMontaro                                                                              11448\nTouhou Luna Nights                                                                   11443\nUBOAT                                                                                11442\nBurnout Paradise: The Ultimate Box                                                   11432\nShe Will Punish Them                                                                 11430\nSpellbreak                                                                           11413\nDeus Ex: Game of the Year Edition                                                    11392\nBLOCKPOST                                                                            11365\nTricky Towers                                                                        11357\nGrand Theft Auto III                                                                 11349\nSTAR WARS Jedi Knight - Jedi Academy                                                 11318\nDeath's Door                                                                         11306\nMoonbase Alpha                                                                       11297\nMr.Mine                                                                              11294\nDarksiders II Deathinitive Edition                                                   11283\nF.E.A.R.                                                                             11271\nBIOMUTANT                                                                            11266\nSlime Rancher 2                                                                      11255\nLEGO Worlds                                                                          11224\n3DMark                                                                               11192\nKingdoms of Amalur: Reckoning                                                        11184\nUltra Street Fighter IV                                                              11163\nMafia II: Definitive Edition                                                         11155\nNEKOPARA Vol. 3                                                                      11150\nShadowrun Returns                                                                    11134\nLast Man Standing                                                                    11132\nBaldur's Gate: Enhanced Edition                                                      11118\nRise of Nations: Extended Edition                                                    11117\nProject Wingman                                                                      11102\nAssassin's Creed Revelations                                                         11070\nX4: Foundations                                                                      11057\nProject CARS                                                                         11047\nFate Seeker                                                                          11039\nThe Riftbreaker                                                                      11008\nKeep Talking and Nobody Explodes                                                     11001\nMonster Hunter Stories 2: Wings of Ruin                                              10982\nHouse Party                                                                          10961\nOld School RuneScape                                                                 10950\nNARUTO SHIPPUDEN: Ultimate Ninja STORM 3 Full Burst HD                               10949\nHyperdimension Neptunia Re;Birth1                                                    10939\nMotorsport Manager                                                                   10925\nDetention                                                                            10911\nDevil May Cry 4 Special Edition                                                      10903\nCrysis 2 - Maximum Edition                                                           10890\nLords Of The Fallen 2014                                                             10874\nFAR: Lone Sails                                                                      10869\nFINAL FANTASY XIII                                                                   10868\nVampire: The Masquerade - Bloodlines                                                 10849\nValkyria Chronicles                                                                  10828\nF1 2018                                                                              10823\nDarksiders Warmastered Edition                                                       10813\nHatred                                                                               10756\nTropico 4                                                                            10748\nWorkers & Resources: Soviet Republic                                                 10747\nMount & Blade: With Fire & Sword                                                     10725\nFootball Manager 2019                                                                10725\nAssassin’s Creed Rogue                                                               10706\nMonster Prom                                                                         10689\nI Love You, Colonel Sanders! A Finger Lickin’ Good Dating Simulator                  10686\nName: positive, dtype: int64\nShowing only the first 1000"
     ]
    }
   ],
   "source": [
    "best_rated=dfk_data.groupby(\"name\")[\"positive\"].max().sort_values(ascending=False)\n",
    "best_rated\n"
   ]
  },
  {
   "cell_type": "code",
   "execution_count": 0,
   "metadata": {
    "application/vnd.databricks.v1+cell": {
     "cellMetadata": {
      "byteLimit": 2048000,
      "rowLimit": 10000
     },
     "inputWidgets": {},
     "nuid": "1c2d2869-f006-474e-98c1-1c2a68c01874",
     "showTitle": true,
     "title": "Y a-t-il des années avec plus de sorties ?"
    }
   },
   "outputs": [
    {
     "output_type": "stream",
     "name": "stdout",
     "output_type": "stream",
     "text": [
      "Out[87]: dtype('O')"
     ]
    }
   ],
   "source": [
    "dfk_data.release_date.dtypes"
   ]
  },
  {
   "cell_type": "code",
   "execution_count": 0,
   "metadata": {
    "application/vnd.databricks.v1+cell": {
     "cellMetadata": {
      "byteLimit": 2048000,
      "rowLimit": 10000
     },
     "inputWidgets": {},
     "nuid": "353df8af-2c08-4982-8c58-e456a24324d5",
     "showTitle": false,
     "title": ""
    }
   },
   "outputs": [],
   "source": [
    "#nous devons transformer release_date en date avec datetime:\n",
    "#la fonction pd.dataframe ne foctionne pas avec Koals , nous utilisons donc le spark SQL \n",
    "df_data = df_data.withColumn(\"date\", F.date_format(F.from_unixtime(F.unix_timestamp(F.col(\"release_date\"), \"yyyy/MM/d\")), \"yyyy/MM/dd\"))\n"
   ]
  },
  {
   "cell_type": "code",
   "execution_count": 0,
   "metadata": {
    "application/vnd.databricks.v1+cell": {
     "cellMetadata": {
      "byteLimit": 2048000,
      "rowLimit": 10000
     },
     "inputWidgets": {},
     "nuid": "fc51636b-0ad6-4dca-a1f9-94963163768f",
     "showTitle": false,
     "title": ""
    }
   },
   "outputs": [],
   "source": [
    "df_data =df_data.withColumn(\"datetime\", F.to_date(F.col(\"date\"), \"yyyy/MM/dd\"))"
   ]
  },
  {
   "cell_type": "code",
   "execution_count": 0,
   "metadata": {
    "application/vnd.databricks.v1+cell": {
     "cellMetadata": {
      "byteLimit": 2048000,
      "rowLimit": 10000
     },
     "inputWidgets": {},
     "nuid": "021a5f6e-ecfc-4e44-995d-7c8efe625c9e",
     "showTitle": false,
     "title": ""
    }
   },
   "outputs": [
    {
     "output_type": "stream",
     "name": "stdout",
     "output_type": "stream",
     "text": [
      "Out[106]: dtype('O')"
     ]
    }
   ],
   "source": []
  },
  {
   "cell_type": "code",
   "execution_count": 0,
   "metadata": {
    "application/vnd.databricks.v1+cell": {
     "cellMetadata": {
      "byteLimit": 2048000,
      "rowLimit": 10000
     },
     "inputWidgets": {},
     "nuid": "b6d476a7-a156-473e-bfc5-0b81e68614b3",
     "showTitle": false,
     "title": ""
    }
   },
   "outputs": [
    {
     "output_type": "stream",
     "name": "stdout",
     "output_type": "stream",
     "text": [
      "Out[10]: dtype('O')"
     ]
    }
   ],
   "source": [
    "dfk_data.release_date.dtypes"
   ]
  },
  {
   "cell_type": "code",
   "execution_count": 0,
   "metadata": {
    "application/vnd.databricks.v1+cell": {
     "cellMetadata": {
      "byteLimit": 2048000,
      "rowLimit": 10000
     },
     "inputWidgets": {},
     "nuid": "98e9f20d-0f25-44f4-bbba-9f7e710c0169",
     "showTitle": false,
     "title": ""
    }
   },
   "outputs": [],
   "source": [
    "dfk_data = df_data.to_koalas()"
   ]
  },
  {
   "cell_type": "code",
   "execution_count": 0,
   "metadata": {
    "application/vnd.databricks.v1+cell": {
     "cellMetadata": {
      "byteLimit": 2048000,
      "rowLimit": 10000
     },
     "inputWidgets": {},
     "nuid": "92599598-0311-4d00-a3d8-cdd71b91b56c",
     "showTitle": false,
     "title": ""
    }
   },
   "outputs": [],
   "source": [
    "#supprimer les deux colonnes ajoutées:\n",
    "dfk_data=dfk_data.drop(columns=[\"release_date\",\"date\"])"
   ]
  },
  {
   "cell_type": "code",
   "execution_count": 0,
   "metadata": {
    "application/vnd.databricks.v1+cell": {
     "cellMetadata": {
      "byteLimit": 2048000,
      "rowLimit": 10000
     },
     "inputWidgets": {},
     "nuid": "ea0b76e3-6130-46a4-995b-70f8bdd65993",
     "showTitle": false,
     "title": ""
    }
   },
   "outputs": [
    {
     "output_type": "display_data",
     "data": {
      "text/html": [
       "<div>\n",
       "<style scoped>\n",
       "    .dataframe tbody tr th:only-of-type {\n",
       "        vertical-align: middle;\n",
       "    }\n",
       "\n",
       "    .dataframe tbody tr th {\n",
       "        vertical-align: top;\n",
       "    }\n",
       "\n",
       "    .dataframe thead th {\n",
       "        text-align: right;\n",
       "    }\n",
       "</style>\n",
       "<table border=\"1\" class=\"dataframe\">\n",
       "  <thead>\n",
       "    <tr style=\"text-align: right;\">\n",
       "      <th></th>\n",
       "      <th>appid</th>\n",
       "      <th>categories</th>\n",
       "      <th>ccu</th>\n",
       "      <th>developer</th>\n",
       "      <th>discount</th>\n",
       "      <th>genre</th>\n",
       "      <th>header_image</th>\n",
       "      <th>initialprice</th>\n",
       "      <th>languages</th>\n",
       "      <th>name</th>\n",
       "      <th>negative</th>\n",
       "      <th>owners</th>\n",
       "      <th>platforms</th>\n",
       "      <th>positive</th>\n",
       "      <th>price</th>\n",
       "      <th>publisher</th>\n",
       "      <th>required_age</th>\n",
       "      <th>short_description</th>\n",
       "      <th>tags</th>\n",
       "      <th>type</th>\n",
       "      <th>website</th>\n",
       "      <th>datetime</th>\n",
       "    </tr>\n",
       "  </thead>\n",
       "  <tbody>\n",
       "    <tr>\n",
       "      <th>0</th>\n",
       "      <td>10</td>\n",
       "      <td>[Multi-player, Valve Anti-Cheat enabled, Onlin...</td>\n",
       "      <td>13990</td>\n",
       "      <td>Valve</td>\n",
       "      <td>0</td>\n",
       "      <td>Action</td>\n",
       "      <td>https://cdn.akamai.steamstatic.com/steam/apps/...</td>\n",
       "      <td>999</td>\n",
       "      <td>English, French, German, Italian, Spanish - Sp...</td>\n",
       "      <td>Counter-Strike</td>\n",
       "      <td>5199</td>\n",
       "      <td>10,000,000 .. 20,000,000</td>\n",
       "      <td>{'linux': True, 'mac': True, 'windows': True}</td>\n",
       "      <td>201215</td>\n",
       "      <td>999</td>\n",
       "      <td>Valve</td>\n",
       "      <td>0</td>\n",
       "      <td>Play the world's number 1 online action game. ...</td>\n",
       "      <td>{'1980s': 266.0, '1990's': 1191.0, '2.5D': Non...</td>\n",
       "      <td>game</td>\n",
       "      <td></td>\n",
       "      <td>2000-11-01</td>\n",
       "    </tr>\n",
       "    <tr>\n",
       "      <th>1</th>\n",
       "      <td>1000000</td>\n",
       "      <td>[Single-player, Partial Controller Support, St...</td>\n",
       "      <td>0</td>\n",
       "      <td>IndigoBlue Game Studio</td>\n",
       "      <td>0</td>\n",
       "      <td>Action, Adventure, Indie</td>\n",
       "      <td>https://cdn.akamai.steamstatic.com/steam/apps/...</td>\n",
       "      <td>999</td>\n",
       "      <td>English, Korean, Simplified Chinese</td>\n",
       "      <td>ASCENXION</td>\n",
       "      <td>5</td>\n",
       "      <td>0 .. 20,000</td>\n",
       "      <td>{'linux': False, 'mac': False, 'windows': True}</td>\n",
       "      <td>27</td>\n",
       "      <td>999</td>\n",
       "      <td>PsychoFlux Entertainment</td>\n",
       "      <td>0</td>\n",
       "      <td>ASCENXION is a 2D shoot 'em up game where you ...</td>\n",
       "      <td>{'1980s': None, '1990's': None, '2.5D': None, ...</td>\n",
       "      <td>game</td>\n",
       "      <td></td>\n",
       "      <td>2021-05-14</td>\n",
       "    </tr>\n",
       "    <tr>\n",
       "      <th>2</th>\n",
       "      <td>1000010</td>\n",
       "      <td>[Single-player, Partial Controller Support, St...</td>\n",
       "      <td>99</td>\n",
       "      <td>NEXT Studios</td>\n",
       "      <td>70</td>\n",
       "      <td>Adventure, Indie, RPG, Strategy</td>\n",
       "      <td>https://cdn.akamai.steamstatic.com/steam/apps/...</td>\n",
       "      <td>1999</td>\n",
       "      <td>Simplified Chinese, English, Japanese, Traditi...</td>\n",
       "      <td>Crown Trick</td>\n",
       "      <td>646</td>\n",
       "      <td>200,000 .. 500,000</td>\n",
       "      <td>{'linux': False, 'mac': False, 'windows': True}</td>\n",
       "      <td>4032</td>\n",
       "      <td>599</td>\n",
       "      <td>Team17, NEXT Studios</td>\n",
       "      <td>0</td>\n",
       "      <td>Enter a labyrinth that moves as you move, wher...</td>\n",
       "      <td>{'1980s': None, '1990's': None, '2.5D': None, ...</td>\n",
       "      <td>game</td>\n",
       "      <td></td>\n",
       "      <td>2020-10-16</td>\n",
       "    </tr>\n",
       "  </tbody>\n",
       "</table>\n",
       "</div>"
      ]
     },
     "metadata": {
      "application/vnd.databricks.v1+output": {
       "addedWidgets": {},
       "arguments": {},
       "data": "<div>\n<style scoped>\n    .dataframe tbody tr th:only-of-type {\n        vertical-align: middle;\n    }\n\n    .dataframe tbody tr th {\n        vertical-align: top;\n    }\n\n    .dataframe thead th {\n        text-align: right;\n    }\n</style>\n<table border=\"1\" class=\"dataframe\">\n  <thead>\n    <tr style=\"text-align: right;\">\n      <th></th>\n      <th>appid</th>\n      <th>categories</th>\n      <th>ccu</th>\n      <th>developer</th>\n      <th>discount</th>\n      <th>genre</th>\n      <th>header_image</th>\n      <th>initialprice</th>\n      <th>languages</th>\n      <th>name</th>\n      <th>negative</th>\n      <th>owners</th>\n      <th>platforms</th>\n      <th>positive</th>\n      <th>price</th>\n      <th>publisher</th>\n      <th>required_age</th>\n      <th>short_description</th>\n      <th>tags</th>\n      <th>type</th>\n      <th>website</th>\n      <th>datetime</th>\n    </tr>\n  </thead>\n  <tbody>\n    <tr>\n      <th>0</th>\n      <td>10</td>\n      <td>[Multi-player, Valve Anti-Cheat enabled, Onlin...</td>\n      <td>13990</td>\n      <td>Valve</td>\n      <td>0</td>\n      <td>Action</td>\n      <td>https://cdn.akamai.steamstatic.com/steam/apps/...</td>\n      <td>999</td>\n      <td>English, French, German, Italian, Spanish - Sp...</td>\n      <td>Counter-Strike</td>\n      <td>5199</td>\n      <td>10,000,000 .. 20,000,000</td>\n      <td>{'linux': True, 'mac': True, 'windows': True}</td>\n      <td>201215</td>\n      <td>999</td>\n      <td>Valve</td>\n      <td>0</td>\n      <td>Play the world's number 1 online action game. ...</td>\n      <td>{'1980s': 266.0, '1990's': 1191.0, '2.5D': Non...</td>\n      <td>game</td>\n      <td></td>\n      <td>2000-11-01</td>\n    </tr>\n    <tr>\n      <th>1</th>\n      <td>1000000</td>\n      <td>[Single-player, Partial Controller Support, St...</td>\n      <td>0</td>\n      <td>IndigoBlue Game Studio</td>\n      <td>0</td>\n      <td>Action, Adventure, Indie</td>\n      <td>https://cdn.akamai.steamstatic.com/steam/apps/...</td>\n      <td>999</td>\n      <td>English, Korean, Simplified Chinese</td>\n      <td>ASCENXION</td>\n      <td>5</td>\n      <td>0 .. 20,000</td>\n      <td>{'linux': False, 'mac': False, 'windows': True}</td>\n      <td>27</td>\n      <td>999</td>\n      <td>PsychoFlux Entertainment</td>\n      <td>0</td>\n      <td>ASCENXION is a 2D shoot 'em up game where you ...</td>\n      <td>{'1980s': None, '1990's': None, '2.5D': None, ...</td>\n      <td>game</td>\n      <td></td>\n      <td>2021-05-14</td>\n    </tr>\n    <tr>\n      <th>2</th>\n      <td>1000010</td>\n      <td>[Single-player, Partial Controller Support, St...</td>\n      <td>99</td>\n      <td>NEXT Studios</td>\n      <td>70</td>\n      <td>Adventure, Indie, RPG, Strategy</td>\n      <td>https://cdn.akamai.steamstatic.com/steam/apps/...</td>\n      <td>1999</td>\n      <td>Simplified Chinese, English, Japanese, Traditi...</td>\n      <td>Crown Trick</td>\n      <td>646</td>\n      <td>200,000 .. 500,000</td>\n      <td>{'linux': False, 'mac': False, 'windows': True}</td>\n      <td>4032</td>\n      <td>599</td>\n      <td>Team17, NEXT Studios</td>\n      <td>0</td>\n      <td>Enter a labyrinth that moves as you move, wher...</td>\n      <td>{'1980s': None, '1990's': None, '2.5D': None, ...</td>\n      <td>game</td>\n      <td></td>\n      <td>2020-10-16</td>\n    </tr>\n  </tbody>\n</table>\n</div>",
       "datasetInfos": [],
       "metadata": {},
       "removedWidgets": [],
       "textData": null,
       "type": "htmlSandbox"
      }
     },
     "output_type": "display_data"
    }
   ],
   "source": [
    "dfk_data.head(3)"
   ]
  },
  {
   "cell_type": "code",
   "execution_count": 0,
   "metadata": {
    "application/vnd.databricks.v1+cell": {
     "cellMetadata": {
      "byteLimit": 2048000,
      "rowLimit": 10000
     },
     "inputWidgets": {},
     "nuid": "c055dec4-2010-428d-b853-c37dd7cb5d67",
     "showTitle": false,
     "title": ""
    }
   },
   "outputs": [
    {
     "output_type": "stream",
     "name": "stdout",
     "output_type": "stream",
     "text": [
      "2021    8805\n2020    8287\n2018    7663\n2022    7451\n2019    6949\n2017    6006\n2016    4176\n2015    2566\n2014    1550\n2013     469\n2012     344\n2009     309\n2010     281\n2011     267\n2008     159\n2007      98\n2006      61\n2004       6\n2005       6\n2001       4\n1999       3\n2003       3\n1997       2\n2000       2\n1998       1\n2002       1\nName: datetime, dtype: int64"
     ]
    }
   ],
   "source": [
    "display(dfk_data.datetime.dt.year.value_counts())"
   ]
  },
  {
   "cell_type": "code",
   "execution_count": 0,
   "metadata": {
    "application/vnd.databricks.v1+cell": {
     "cellMetadata": {},
     "inputWidgets": {},
     "nuid": "b1efe84f-9849-4b73-937a-86d6792dbc81",
     "showTitle": false,
     "title": ""
    }
   },
   "outputs": [],
   "source": [
    "#l'année 2021 est l'année ou nous avons le plus de sortie de jeu"
   ]
  },
  {
   "cell_type": "code",
   "execution_count": 0,
   "metadata": {
    "application/vnd.databricks.v1+cell": {
     "cellMetadata": {
      "byteLimit": 2048000,
      "rowLimit": 10000
     },
     "inputWidgets": {},
     "nuid": "96419854-f5ba-42fe-adec-15742048a839",
     "showTitle": false,
     "title": ""
    }
   },
   "outputs": [
    {
     "output_type": "stream",
     "name": "stdout",
     "output_type": "stream",
     "text": [
      "2022    7451\n2021    8805\n2020    8287\n2019    6949\n2018    7663\n2017    6006\n2016    4176\n2015    2566\n2014    1550\n2013     469\n2012     344\n2011     267\n2010     281\n2009     309\n2008     159\n2007      98\n2006      61\n2005       6\n2004       6\n2003       3\n2002       1\n2001       4\n2000       2\n1999       3\n1998       1\n1997       2\nName: datetime, dtype: int64"
     ]
    }
   ],
   "source": [
    "display(dfk_data.datetime.dt.year.value_counts().sort_index(ascending=False))"
   ]
  },
  {
   "cell_type": "code",
   "execution_count": 0,
   "metadata": {
    "application/vnd.databricks.v1+cell": {
     "cellMetadata": {},
     "inputWidgets": {},
     "nuid": "2c6c893a-d894-4807-b8c4-238cf11fcf2b",
     "showTitle": false,
     "title": ""
    }
   },
   "outputs": [],
   "source": [
    " #Au premier vu, oui le covid à impacté n nombre de sorties de jeu, nous constatons une baisse comparant à l'année 2018"
   ]
  },
  {
   "cell_type": "code",
   "execution_count": 0,
   "metadata": {
    "application/vnd.databricks.v1+cell": {
     "cellMetadata": {
      "byteLimit": 2048000,
      "rowLimit": 10000
     },
     "inputWidgets": {},
     "nuid": "6f11d1b8-103e-4f4e-9c69-054f642d33f5",
     "showTitle": true,
     "title": "Comment sont distribués les prix ? Y a-t-il beaucoup de jeux avec une réduction ?"
    }
   },
   "outputs": [
    {
     "output_type": "stream",
     "name": "stdout",
     "output_type": "stream",
     "text": [
      "Out[122]: 0        7780\n499      6518\n999      6336\n99       5441\n199      4285\n299      3738\n1499     3027\n1999     2992\n399      2591\n699      1964\n599      1926\n799      1631\n2499      936\n2999      906\n1299      851\n1199      850\n899       756\n1099      460\n3999      447\n1799      297\n1399      272\n1599      228\n4999      200\n5999      194\n1699      189\n3499      161\n1899      150\n4499       47\n90         34\n6999       27\n9999       24\n500        20\n19999      18\n100        17\n5499       15\n7999       14\n2199       12\n249        12\n1500       10\n1000       10\n300         9\n149         9\n420         8\n200         7\n7499        7\n6499        7\n14999       6\n150         6\n2299        6\n400         6\n1249        6\n990         6\n250         5\n2000        5\n12999       5\n349         5\n8999        5\n600         5\n2399        5\n749         4\n9499        4\n1200        4\n129         4\n529         4\n800         3\n666         3\n2699        3\n2099        3\n449         3\n2500        3\n995         2\n379         2\n98          2\n3595        2\n11999       2\n639         2\n1995        2\n147         2\n2899        2\n1449        2\n1900        2\n9900        2\n2998        2\n397         2\n900         2\n1990        2\n6903        1\n577         1\n3299        1\n169         1\n700         1\n388         1\n495         1\n1290        1\n433         1\n2799        1\n890         1\n459         1\n133         1\n389         1\n1510        1\n479         1\n1984        1\n888         1\n488         1\n187         1\n188         1\n195         1\n565         1\n179         1\n610         1\n2479        1\n3196        1\n649         1\n1337        1\n1777        1\n140         1\n3939        1\n549         1\n4495        1\n631         1\n558         1\n3000        1\n5995        1\n4498        1\n198         1\n290         1\n136         1\n2599        1\n230         1\n329         1\n3599        1\n229         1\n2449        1\n2004        1\n1190        1\n99900       1\n5795        1\n1149        1\n819         1\n369         1\n6995        1\n189         1\n288         1\n12499       1\n4000        1\n998         1\n245         1\n1558        1\n293         1\n1997        1\n3500        1\n929         1\n2109        1\n360         1\n26999       1\n3900        1\n1996        1\n8499        1\n430         1\n350         1\n6495        1\n1969        1\n519         1\n259         1\n159         1\n1450        1\n1313        1\n777         1\n1495        1\n2260        1\n550         1\n2995        1\n680         1\n142         1\n1666        1\n750         1\n1600        1\n1295        1\n14900       1\n3990        1\n386         1\n698         1\n222         1\n969         1\n2397        1\n1240        1\n795         1\n4500        1\n1949        1\n1029        1\n333         1\n1025        1\n706         1\n2990        1\n29990       1\n24900       1\n5274        1\n590         1\n50          1\n145         1\n3199        1\n898         1\nName: initialprice, dtype: int64"
     ]
    }
   ],
   "source": [
    "dfk_data[\"initialprice\"].value_counts()"
   ]
  },
  {
   "cell_type": "code",
   "execution_count": 0,
   "metadata": {
    "application/vnd.databricks.v1+cell": {
     "cellMetadata": {
      "byteLimit": 2048000,
      "rowLimit": 10000
     },
     "inputWidgets": {},
     "nuid": "eec172e7-f26d-4147-836c-8a7ac79f0466",
     "showTitle": false,
     "title": ""
    }
   },
   "outputs": [],
   "source": [
    "#Transformer le prix initial pour obtenir le prix réel (on le divise /100)\n",
    "dfk_data[\"initialprice\"]=(dfk_data[\"initialprice\"].astype(int))/100"
   ]
  },
  {
   "cell_type": "code",
   "execution_count": 0,
   "metadata": {
    "application/vnd.databricks.v1+cell": {
     "cellMetadata": {
      "byteLimit": 2048000,
      "rowLimit": 10000
     },
     "inputWidgets": {},
     "nuid": "3f0b0519-68c4-47ad-83f8-171dea4bb970",
     "showTitle": false,
     "title": ""
    }
   },
   "outputs": [],
   "source": [
    "##Transformer le prix de vente pour obtenir le prix réel (on le divise /100)\n",
    "dfk_data[\"price\"]=(dfk_data[\"price\"].astype(int))/100"
   ]
  },
  {
   "cell_type": "code",
   "execution_count": 0,
   "metadata": {
    "application/vnd.databricks.v1+cell": {
     "cellMetadata": {
      "byteLimit": 2048000,
      "rowLimit": 10000
     },
     "inputWidgets": {},
     "nuid": "246cb2f1-6b7d-40b7-beae-95a217b93984",
     "showTitle": false,
     "title": ""
    }
   },
   "outputs": [],
   "source": [
    "#Créer une colonne discount pour calculcler la différence entre le prix de vente et le prix initiale\n",
    "dfk_data[\"discount\"]=dfk_data[\"initialprice\"]-dfk_data[\"price\"]"
   ]
  },
  {
   "cell_type": "code",
   "execution_count": 0,
   "metadata": {
    "application/vnd.databricks.v1+cell": {
     "cellMetadata": {
      "byteLimit": 2048000,
      "rowLimit": 10000
     },
     "inputWidgets": {},
     "nuid": "52f5987a-d072-4f37-8dbb-d327cccee5b2",
     "showTitle": false,
     "title": ""
    }
   },
   "outputs": [
    {
     "output_type": "stream",
     "name": "stdout",
     "output_type": "stream",
     "text": [
      "Out[129]: 0.00     53173\n0.10         6\n0.15         2\n0.18         1\n0.20        12\n0.22         2\n0.25         6\n0.30        22\n0.30         3\n0.36         1\n0.37         1\n0.40        11\n0.40        35\n0.40         6\n0.42         1\n0.45        16\n0.45         2\n0.45         1\n0.48        23\n0.49         1\n0.50       155\n0.55         1\n0.60         1\n0.60        16\n0.60         2\n0.63         1\n0.65         1\n0.66         1\n0.68         6\n0.69         2\n0.70        13\n0.70         2\n0.71        20\n0.75         5\n0.80         1\n0.80        15\n0.80         1\n0.90        17\n0.96         3\n0.99         1\n1.00        58\n1.02         1\n1.05         2\n1.08         1\n1.10         1\n1.10         2\n1.14         1\n1.18         1\n1.20        11\n1.20        27\n1.22         1\n1.25         9\n1.26         1\n1.30         5\n1.30         3\n1.32         1\n1.35         1\n1.38         2\n1.40        14\n1.40         7\n1.42         2\n1.48         4\n1.50        75\n1.50        25\n1.60         7\n1.60         4\n1.62        19\n1.65         2\n1.70         2\n1.75         7\n1.76         1\n1.80         8\n1.80         9\n1.80         3\n1.89         2\n1.95         4\n1.95         1\n1.96         1\n2.00        42\n2.05         1\n2.10         1\n2.10        14\n2.10         2\n2.16         1\n2.20         3\n2.20         1\n2.22         3\n2.25        27\n2.34         1\n2.40        41\n2.43         2\n2.44         1\n2.45         1\n2.46         5\n2.49        21\n2.50        60\n2.58        10\n2.60         4\n2.60         2\n2.61         7\n2.70         1\n2.70         7\n2.75         1\n2.76         2\n2.80         5\n2.80         7\n2.80         1\n2.85         1\n2.88         1\n2.96         1\n3.00        86\n3.04         1\n3.08         4\n3.12         1\n3.20        20\n3.20         1\n3.24         2\n3.25         4\n3.28         1\n3.30         8\n3.30         2\n3.30         1\n3.32         1\n3.36         1\n3.40         2\n3.42         1\n3.45         3\n3.48        25\n3.50        37\n3.60         2\n3.60         3\n3.60         8\n3.60         2\n3.63         1\n3.71         2\n3.75        29\n3.80         2\n3.90         6\n3.95         1\n3.97         1\n4.00        11\n4.00        61\n4.02         2\n4.10         1\n4.15         1\n4.20        21\n4.20         3\n4.25         1\n4.25         5\n4.29         1\n4.35         2\n4.40         4\n4.45         5\n4.48         1\n4.50         2\n4.50       141\n4.55         4\n4.80         2\n4.80        11\n4.83         1\n4.90        20\n4.92         1\n4.95         3\n4.96         1\n5.00         6\n5.00        47\n5.10         1\n5.10         4\n5.15         1\n5.16         2\n5.20         8\n5.25        21\n5.28         4\n5.40         4\n5.40        21\n5.50         5\n5.60         5\n5.60         8\n5.70         2\n5.75         1\n5.85         1\n5.85         2\n5.95         1\n5.95         1\n6.00        18\n6.00        51\n6.09         1\n6.23         1\n6.25         2\n6.30        18\n6.40        11\n6.50        12\n6.60         2\n6.60         2\n6.60         3\n6.63         1\n6.64         1\n6.75         7\n6.80         1\n6.90         4\n7.00         7\n7.00        14\n7.15         2\n7.20         4\n7.20         8\n7.26         1\n7.26         1\n7.50        57\n7.65         1\n7.70         1\n7.80         2\n8.00        12\n8.00        49\n8.00         2\n8.06         3\n8.10         3\n8.25         4\n8.30         2\n8.40         2\n8.45         2\n8.50         2\n8.50         6\n8.70         1\n8.71         1\n8.75         4\n8.80        12\n9.00         6\n9.00        52\n9.10         2\n9.10         1\n9.25         1\n9.50         1\n9.60        13\n9.75         6\n9.80         1\n9.88         1\n9.90         7\n10.00       36\n10.00        1\n10.00        3\n10.05        2\n10.08        1\n10.20        2\n10.35        1\n10.40        9\n10.45        1\n10.50       16\n10.80        3\n11.00        6\n11.05        2\n11.10        1\n11.20        1\n11.25       19\n11.70        2\n11.90        2\n11.90        1\n12.00       13\n12.00       19\n12.00        1\n12.50        8\n12.75        2\n12.75        5\n13.00        3\n13.20        3\n13.30        1\n13.35        1\n13.50        7\n13.80        1\n14.00       11\n14.20        1\n14.40        4\n14.45        1\n15.00       31\n15.30        1\n15.40        1\n16.00       13\n16.20        1\n16.50        3\n16.75        1\n17.00        2\n17.10        1\n17.20        1\n17.50        3\n17.50        3\n18.00       17\n18.30        1\n18.60        1\n18.75        1\n18.75        5\n19.50        1\n20.00        9\n20.00        5\n20.10        5\n20.30        1\n21.00        6\n21.25        2\n21.57        1\n22.00        1\n22.50       12\n22.75        1\n24.00        8\n24.75        1\n25.00        1\n26.00        1\n26.25        1\n26.40        1\n27.00        2\n27.50        1\n30.00        2\n30.00        3\n31.50        1\n33.00        2\n34.00        2\n35.00        1\n35.00        1\n35.40        1\n36.00        2\n37.50        1\n37.50        1\n39.00        1\n40.00        1\n40.50        2\n45.00        3\n56.00        1\n60.00        1\n65.34        1\nName: discount, dtype: int64"
     ]
    }
   ],
   "source": [
    "dfk_data[\"discount\"].value_counts().sort_index()"
   ]
  },
  {
   "cell_type": "code",
   "execution_count": 0,
   "metadata": {
    "application/vnd.databricks.v1+cell": {
     "cellMetadata": {},
     "inputWidgets": {},
     "nuid": "e1fa6533-820a-42d3-84ba-82263b876f92",
     "showTitle": false,
     "title": ""
    }
   },
   "outputs": [],
   "source": [
    "#Conclusion: tous les jeux sont vendus avec une réduction"
   ]
  },
  {
   "cell_type": "code",
   "execution_count": 0,
   "metadata": {
    "application/vnd.databricks.v1+cell": {
     "cellMetadata": {
      "byteLimit": 2048000,
      "rowLimit": 10000
     },
     "inputWidgets": {},
     "nuid": "f1639bcb-e280-4f95-92b4-c8dcdfb76b9d",
     "showTitle": true,
     "title": "Quelles sont les langues les plus représentées ?"
    }
   },
   "outputs": [
    {
     "output_type": "stream",
     "name": "stdout",
     "output_type": "stream",
     "text": [
      "/databricks/spark/python/pyspark/sql/pandas/functions.py:386: UserWarning: In Python 3.6+ and Spark 3.0+, it is preferred to specify type hints for pandas UDF instead of specifying pandas UDF type which will be deprecated in the future releases. See SPARK-28264 for more details.\n  warnings.warn(\nEnglish                                                                 54646\n German                                                                 13996\n French                                                                 13406\n Russian                                                                12839\n Spanish - Spain                                                        12224\n Simplified Chinese                                                     12213\n Japanese                                                               10170\n Italian                                                                 9297\n Portuguese - Brazil                                                     6739\n Korean                                                                  6575\n Traditional Chinese                                                     6263\n Polish                                                                  5369\n Portuguese - Portugal                                                   4011\n Turkish                                                                 3601\n Dutch                                                                   3076\n Spanish - Latin America                                                 2729\n Czech                                                                   2340\n Swedish                                                                 2047\n Ukrainian                                                               1928\n Hungarian                                                               1923\n Arabic                                                                  1794\n Danish                                                                  1712\n Thai                                                                    1695\n Finnish                                                                 1614\n Norwegian                                                               1613\n Greek                                                                   1443\n Romanian                                                                1431\n Not supported                                                           1276\n Bulgarian                                                               1256\n Vietnamese                                                              1133\nSimplified Chinese                                                        569\n English                                                                  470\nJapanese                                                                  198\nRussian                                                                    83\n Indonesian                                                                54\n Slovak                                                                    47\nTraditional Chinese                                                        44\n Catalan                                                                   38\n Hindi                                                                     26\n Hebrew                                                                    25\nKorean                                                                     24\nGerman                                                                     23\n Belarusian                                                                23\nFrench                                                                     20\n Serbian                                                                   20\n Basque                                                                    17\n Malay                                                                     14\n Latvian                                                                   12\n Persian                                                                   12\n Croatian                                                                  12\n Lithuanian                                                                12\nCzech                                                                      12\nPortuguese - Brazil                                                        11\n Portuguese                                                                11\n                                                                           11\n Estonian                                                                  10\nSpanish - Spain                                                             9\nPolish                                                                      7\nItalian                                                                     7\n Filipino                                                                   7\n Slovenian                                                                  6\n Galician                                                                   6\n Welsh                                                                      6\n Irish                                                                      5\nDanish                                                                      5\n Icelandic                                                                  5\n Georgian                                                                   4\nThai                                                                        4\n Afrikaans                                                                  4\n Albanian                                                                   4\nEnglish[b]*[/b]                                                             4\nDutch                                                                       4\n Bosnian                                                                    3\n Tamil                                                                      3\nSpanish - Latin America                                                     3\n Urdu                                                                       3\n Bangla                                                                     3\n Kazakh                                                                     3\n Swahili                                                                    2\n Telugu                                                                     2\n German;                                                                    2\n Luxembourgish                                                              2\n German[b]*[/b]                                                             2\n Azerbaijani                                                                2\nArabic                                                                      2\n #lang_slovakian                                                            2\n Maori                                                                      1\n Spanish - Spain[b]*[/b]                                                    1\n Japanese \\r\\n\\r\\n[b]*[/b]                                                  1\n Spanish - Spain\\r\\n[b]*[/b]                                                1\n French[b]*[/b]                                                             1\nTurkish                                                                     1\n (all with full audio support)                                              1\n Italian \\r\\n\\r\\n[b]*[/b]                                                   1\nEnglish (full audio)                                                        1\nEnglish Dutch  English                                                      1\n Uzbek                                                                      1\n Korean[b]*[/b]                                                             1\n Macedonian                                                                 1\n Marathi                                                                    1\n Russian\\r\\n[b]*[/b]                                                        1\n Valencian                                                                  1\nEnglish\\r\\nRussian\\r\\nSpanish - Spain\\r\\nJapanese\\r\\nCzech                  1\n Dari                                                                       1\n Italian[b]*[/b]                                                            1\n  Korean                                                                    1\nGreek                                                                       1\n Kannada                                                                    1\n Mongolian                                                                  1\n Traditional Chinese (text only)                                            1\nRussian\\r\\nEnglish\\r\\nSpanish - Spain\\r\\nFrench\\r\\nJapanese\\r\\nCzech        1\n Punjabi (Gurmukhi)                                                         1\nName: languages, dtype: int64"
     ]
    }
   ],
   "source": [
    "explode_language=dfk_data.languages.str.split(\",\").explode()\n",
    "display(explode_language.value_counts())"
   ]
  },
  {
   "cell_type": "code",
   "execution_count": 0,
   "metadata": {
    "application/vnd.databricks.v1+cell": {
     "cellMetadata": {
      "byteLimit": 2048000,
      "rowLimit": 10000
     },
     "inputWidgets": {},
     "nuid": "2c7feba8-cf19-4268-904f-114519428436",
     "showTitle": true,
     "title": "Existe-t-il de nombreux jeux interdits aux moins de 16/18 ans ?"
    }
   },
   "outputs": [
    {
     "output_type": "stream",
     "name": "stdout",
     "output_type": "stream",
     "text": [
      "Out[20]: 0         55030\n15          264\n18          223\n16           38\n17           38\n12           32\n13           26\n14           10\n10            7\n6             4\n180           4\n3             3\n8             3\n7             2\n35            1\n21+           1\n5             1\n9             1\n7+            1\n20            1\nMA 15+        1\nName: required_age, dtype: int64"
     ]
    }
   ],
   "source": [
    "dfk_data.required_age.value_counts()"
   ]
  },
  {
   "cell_type": "code",
   "execution_count": 0,
   "metadata": {
    "application/vnd.databricks.v1+cell": {
     "cellMetadata": {},
     "inputWidgets": {},
     "nuid": "aa64741d-ef06-4009-8c60-ddfe00620a06",
     "showTitle": false,
     "title": ""
    }
   },
   "outputs": [],
   "source": [
    "required_age_16_18=fk_data[(fk_data.required_age==16)|(fk_data.required_age==16)]"
   ]
  }
 ],
 "metadata": {
  "application/vnd.databricks.v1+notebook": {
   "dashboards": [],
   "language": "python",
   "notebookMetadata": {
    "pythonIndentUnit": 4
   },
   "notebookName": "Bloc4-Steam's videogames platform",
   "widgets": {}
  }
 },
 "nbformat": 4,
 "nbformat_minor": 0
}
